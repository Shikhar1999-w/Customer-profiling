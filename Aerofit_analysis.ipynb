{
 "cells": [
  {
   "cell_type": "code",
   "execution_count": 1,
   "id": "b8a09b83",
   "metadata": {},
   "outputs": [],
   "source": [
    "import numpy as np\n",
    "import pandas as pd\n",
    "import matplotlib.pyplot as plt\n",
    "import seaborn as sns"
   ]
  },
  {
   "cell_type": "code",
   "execution_count": 3,
   "id": "6d089335",
   "metadata": {},
   "outputs": [],
   "source": [
    "# reading data from the csv file into a pandas dataframe\n",
    "\n",
    "df = pd.read_csv(\"aerofit_treadmill.csv\")"
   ]
  },
  {
   "cell_type": "markdown",
   "id": "60273138",
   "metadata": {},
   "source": [
    "# Usual data analysis"
   ]
  },
  {
   "cell_type": "code",
   "execution_count": 4,
   "id": "d74f562b",
   "metadata": {},
   "outputs": [
    {
     "data": {
      "text/html": [
       "<div>\n",
       "<style scoped>\n",
       "    .dataframe tbody tr th:only-of-type {\n",
       "        vertical-align: middle;\n",
       "    }\n",
       "\n",
       "    .dataframe tbody tr th {\n",
       "        vertical-align: top;\n",
       "    }\n",
       "\n",
       "    .dataframe thead th {\n",
       "        text-align: right;\n",
       "    }\n",
       "</style>\n",
       "<table border=\"1\" class=\"dataframe\">\n",
       "  <thead>\n",
       "    <tr style=\"text-align: right;\">\n",
       "      <th></th>\n",
       "      <th>Product</th>\n",
       "      <th>Age</th>\n",
       "      <th>Gender</th>\n",
       "      <th>Education</th>\n",
       "      <th>MaritalStatus</th>\n",
       "      <th>Usage</th>\n",
       "      <th>Fitness</th>\n",
       "      <th>Income</th>\n",
       "      <th>Miles</th>\n",
       "    </tr>\n",
       "  </thead>\n",
       "  <tbody>\n",
       "    <tr>\n",
       "      <th>0</th>\n",
       "      <td>KP281</td>\n",
       "      <td>18</td>\n",
       "      <td>Male</td>\n",
       "      <td>14</td>\n",
       "      <td>Single</td>\n",
       "      <td>3</td>\n",
       "      <td>4</td>\n",
       "      <td>29562</td>\n",
       "      <td>112</td>\n",
       "    </tr>\n",
       "    <tr>\n",
       "      <th>1</th>\n",
       "      <td>KP281</td>\n",
       "      <td>19</td>\n",
       "      <td>Male</td>\n",
       "      <td>15</td>\n",
       "      <td>Single</td>\n",
       "      <td>2</td>\n",
       "      <td>3</td>\n",
       "      <td>31836</td>\n",
       "      <td>75</td>\n",
       "    </tr>\n",
       "    <tr>\n",
       "      <th>2</th>\n",
       "      <td>KP281</td>\n",
       "      <td>19</td>\n",
       "      <td>Female</td>\n",
       "      <td>14</td>\n",
       "      <td>Partnered</td>\n",
       "      <td>4</td>\n",
       "      <td>3</td>\n",
       "      <td>30699</td>\n",
       "      <td>66</td>\n",
       "    </tr>\n",
       "    <tr>\n",
       "      <th>3</th>\n",
       "      <td>KP281</td>\n",
       "      <td>19</td>\n",
       "      <td>Male</td>\n",
       "      <td>12</td>\n",
       "      <td>Single</td>\n",
       "      <td>3</td>\n",
       "      <td>3</td>\n",
       "      <td>32973</td>\n",
       "      <td>85</td>\n",
       "    </tr>\n",
       "    <tr>\n",
       "      <th>4</th>\n",
       "      <td>KP281</td>\n",
       "      <td>20</td>\n",
       "      <td>Male</td>\n",
       "      <td>13</td>\n",
       "      <td>Partnered</td>\n",
       "      <td>4</td>\n",
       "      <td>2</td>\n",
       "      <td>35247</td>\n",
       "      <td>47</td>\n",
       "    </tr>\n",
       "  </tbody>\n",
       "</table>\n",
       "</div>"
      ],
      "text/plain": [
       "  Product  Age  Gender  Education MaritalStatus  Usage  Fitness  Income  Miles\n",
       "0   KP281   18    Male         14        Single      3        4   29562    112\n",
       "1   KP281   19    Male         15        Single      2        3   31836     75\n",
       "2   KP281   19  Female         14     Partnered      4        3   30699     66\n",
       "3   KP281   19    Male         12        Single      3        3   32973     85\n",
       "4   KP281   20    Male         13     Partnered      4        2   35247     47"
      ]
     },
     "execution_count": 4,
     "metadata": {},
     "output_type": "execute_result"
    }
   ],
   "source": [
    "# displaying data\n",
    "\n",
    "df.head()"
   ]
  },
  {
   "cell_type": "code",
   "execution_count": 5,
   "id": "7f2a5541",
   "metadata": {},
   "outputs": [
    {
     "data": {
      "text/plain": [
       "(180, 9)"
      ]
     },
     "execution_count": 5,
     "metadata": {},
     "output_type": "execute_result"
    }
   ],
   "source": [
    "# Checking dataframe shape\n",
    "\n",
    "df.shape"
   ]
  },
  {
   "cell_type": "code",
   "execution_count": 6,
   "id": "c2585436",
   "metadata": {},
   "outputs": [
    {
     "name": "stdout",
     "output_type": "stream",
     "text": [
      "<class 'pandas.core.frame.DataFrame'>\n",
      "RangeIndex: 180 entries, 0 to 179\n",
      "Data columns (total 9 columns):\n",
      " #   Column         Non-Null Count  Dtype \n",
      "---  ------         --------------  ----- \n",
      " 0   Product        180 non-null    object\n",
      " 1   Age            180 non-null    int64 \n",
      " 2   Gender         180 non-null    object\n",
      " 3   Education      180 non-null    int64 \n",
      " 4   MaritalStatus  180 non-null    object\n",
      " 5   Usage          180 non-null    int64 \n",
      " 6   Fitness        180 non-null    int64 \n",
      " 7   Income         180 non-null    int64 \n",
      " 8   Miles          180 non-null    int64 \n",
      "dtypes: int64(6), object(3)\n",
      "memory usage: 12.8+ KB\n"
     ]
    }
   ],
   "source": [
    "# checking data types of each columns and possible existence of null values\n",
    "\n",
    "df.info()"
   ]
  },
  {
   "cell_type": "code",
   "execution_count": 7,
   "id": "6bfe0a6e",
   "metadata": {},
   "outputs": [
    {
     "data": {
      "text/plain": [
       "Product          0\n",
       "Age              0\n",
       "Gender           0\n",
       "Education        0\n",
       "MaritalStatus    0\n",
       "Usage            0\n",
       "Fitness          0\n",
       "Income           0\n",
       "Miles            0\n",
       "dtype: int64"
      ]
     },
     "execution_count": 7,
     "metadata": {},
     "output_type": "execute_result"
    }
   ],
   "source": [
    "# Explicitely checking if there are any null values in any column\n",
    "\n",
    "df.isna().sum()"
   ]
  },
  {
   "cell_type": "code",
   "execution_count": 8,
   "id": "d53fc1e6",
   "metadata": {},
   "outputs": [
    {
     "data": {
      "text/plain": [
       "Product          0\n",
       "Age              0\n",
       "Gender           0\n",
       "Education        0\n",
       "MaritalStatus    0\n",
       "Usage            0\n",
       "Fitness          0\n",
       "Income           0\n",
       "Miles            0\n",
       "dtype: int64"
      ]
     },
     "execution_count": 8,
     "metadata": {},
     "output_type": "execute_result"
    }
   ],
   "source": [
    "# Checking if there are any empty values in any of the columns\n",
    "\n",
    "(df == '').sum()"
   ]
  },
  {
   "cell_type": "code",
   "execution_count": 9,
   "id": "22a7738d",
   "metadata": {},
   "outputs": [
    {
     "data": {
      "text/html": [
       "<div>\n",
       "<style scoped>\n",
       "    .dataframe tbody tr th:only-of-type {\n",
       "        vertical-align: middle;\n",
       "    }\n",
       "\n",
       "    .dataframe tbody tr th {\n",
       "        vertical-align: top;\n",
       "    }\n",
       "\n",
       "    .dataframe thead th {\n",
       "        text-align: right;\n",
       "    }\n",
       "</style>\n",
       "<table border=\"1\" class=\"dataframe\">\n",
       "  <thead>\n",
       "    <tr style=\"text-align: right;\">\n",
       "      <th></th>\n",
       "      <th>Product</th>\n",
       "      <th>Age</th>\n",
       "      <th>Gender</th>\n",
       "      <th>Education</th>\n",
       "      <th>MaritalStatus</th>\n",
       "      <th>Usage</th>\n",
       "      <th>Fitness</th>\n",
       "      <th>Income</th>\n",
       "      <th>Miles</th>\n",
       "    </tr>\n",
       "  </thead>\n",
       "  <tbody>\n",
       "    <tr>\n",
       "      <th>0</th>\n",
       "      <td>KP281</td>\n",
       "      <td>18</td>\n",
       "      <td>Male</td>\n",
       "      <td>14</td>\n",
       "      <td>Single</td>\n",
       "      <td>3</td>\n",
       "      <td>4</td>\n",
       "      <td>29562</td>\n",
       "      <td>112</td>\n",
       "    </tr>\n",
       "    <tr>\n",
       "      <th>1</th>\n",
       "      <td>KP281</td>\n",
       "      <td>19</td>\n",
       "      <td>Male</td>\n",
       "      <td>15</td>\n",
       "      <td>Single</td>\n",
       "      <td>2</td>\n",
       "      <td>3</td>\n",
       "      <td>31836</td>\n",
       "      <td>75</td>\n",
       "    </tr>\n",
       "    <tr>\n",
       "      <th>2</th>\n",
       "      <td>KP281</td>\n",
       "      <td>19</td>\n",
       "      <td>Female</td>\n",
       "      <td>14</td>\n",
       "      <td>Partnered</td>\n",
       "      <td>4</td>\n",
       "      <td>3</td>\n",
       "      <td>30699</td>\n",
       "      <td>66</td>\n",
       "    </tr>\n",
       "    <tr>\n",
       "      <th>3</th>\n",
       "      <td>KP281</td>\n",
       "      <td>19</td>\n",
       "      <td>Male</td>\n",
       "      <td>12</td>\n",
       "      <td>Single</td>\n",
       "      <td>3</td>\n",
       "      <td>3</td>\n",
       "      <td>32973</td>\n",
       "      <td>85</td>\n",
       "    </tr>\n",
       "    <tr>\n",
       "      <th>4</th>\n",
       "      <td>KP281</td>\n",
       "      <td>20</td>\n",
       "      <td>Male</td>\n",
       "      <td>13</td>\n",
       "      <td>Partnered</td>\n",
       "      <td>4</td>\n",
       "      <td>2</td>\n",
       "      <td>35247</td>\n",
       "      <td>47</td>\n",
       "    </tr>\n",
       "  </tbody>\n",
       "</table>\n",
       "</div>"
      ],
      "text/plain": [
       "  Product  Age  Gender  Education MaritalStatus  Usage  Fitness  Income  Miles\n",
       "0   KP281   18    Male         14        Single      3        4   29562    112\n",
       "1   KP281   19    Male         15        Single      2        3   31836     75\n",
       "2   KP281   19  Female         14     Partnered      4        3   30699     66\n",
       "3   KP281   19    Male         12        Single      3        3   32973     85\n",
       "4   KP281   20    Male         13     Partnered      4        2   35247     47"
      ]
     },
     "execution_count": 9,
     "metadata": {},
     "output_type": "execute_result"
    }
   ],
   "source": [
    "df.head()"
   ]
  },
  {
   "cell_type": "code",
   "execution_count": 10,
   "id": "722337b1",
   "metadata": {},
   "outputs": [
    {
     "data": {
      "text/plain": [
       "3"
      ]
     },
     "execution_count": 10,
     "metadata": {},
     "output_type": "execute_result"
    }
   ],
   "source": [
    "# Unique no. of product that aerofit provides\n",
    "\n",
    "df[\"Product\"].nunique()"
   ]
  },
  {
   "cell_type": "code",
   "execution_count": 11,
   "id": "7cb87ba5",
   "metadata": {},
   "outputs": [
    {
     "data": {
      "text/plain": [
       "array(['KP281', 'KP481', 'KP781'], dtype=object)"
      ]
     },
     "execution_count": 11,
     "metadata": {},
     "output_type": "execute_result"
    }
   ],
   "source": [
    "# Unique product names\n",
    "\n",
    "df[\"Product\"].unique()"
   ]
  },
  {
   "cell_type": "code",
   "execution_count": 13,
   "id": "8c269f93",
   "metadata": {},
   "outputs": [
    {
     "data": {
      "text/plain": [
       "Product\n",
       "KP281    80\n",
       "KP481    60\n",
       "KP781    40\n",
       "Name: count, dtype: int64"
      ]
     },
     "execution_count": 13,
     "metadata": {},
     "output_type": "execute_result"
    }
   ],
   "source": [
    "# Count of each product listed in the dataset\n",
    "\n",
    "df[\"Product\"].value_counts()"
   ]
  },
  {
   "cell_type": "code",
   "execution_count": 14,
   "id": "aa7ba930",
   "metadata": {},
   "outputs": [],
   "source": [
    "# From the product portfolio, we know that...\n",
    "# The KP281 is an entry-level treadmill that sells for $1,500.\n",
    "# The KP481 is for mid-level runners that sell for $1,750.\n",
    "# The KP781 treadmill has advanced features that sell for $2,500"
   ]
  },
  {
   "cell_type": "code",
   "execution_count": 18,
   "id": "f7f0ab6f",
   "metadata": {},
   "outputs": [],
   "source": [
    "# Adding each treadmill cost against them in the dataframe, for possible correlation.\n",
    "\n",
    "def treadmill_cost(row):\n",
    "    if row[\"Product\"] == \"KP281\":\n",
    "        return 1500\n",
    "    elif row[\"Product\"] == \"KP481\":\n",
    "        return 1750\n",
    "    else:\n",
    "        return 2500"
   ]
  },
  {
   "cell_type": "code",
   "execution_count": 22,
   "id": "070b90a4",
   "metadata": {
    "scrolled": true
   },
   "outputs": [],
   "source": [
    "df[\"treadmill_cost\"] = df.apply(treadmill_cost, axis=1)"
   ]
  },
  {
   "cell_type": "code",
   "execution_count": 23,
   "id": "475953e8",
   "metadata": {},
   "outputs": [
    {
     "data": {
      "text/html": [
       "<div>\n",
       "<style scoped>\n",
       "    .dataframe tbody tr th:only-of-type {\n",
       "        vertical-align: middle;\n",
       "    }\n",
       "\n",
       "    .dataframe tbody tr th {\n",
       "        vertical-align: top;\n",
       "    }\n",
       "\n",
       "    .dataframe thead th {\n",
       "        text-align: right;\n",
       "    }\n",
       "</style>\n",
       "<table border=\"1\" class=\"dataframe\">\n",
       "  <thead>\n",
       "    <tr style=\"text-align: right;\">\n",
       "      <th></th>\n",
       "      <th>Product</th>\n",
       "      <th>Age</th>\n",
       "      <th>Gender</th>\n",
       "      <th>Education</th>\n",
       "      <th>MaritalStatus</th>\n",
       "      <th>Usage</th>\n",
       "      <th>Fitness</th>\n",
       "      <th>Income</th>\n",
       "      <th>Miles</th>\n",
       "      <th>treadmill_cost</th>\n",
       "    </tr>\n",
       "  </thead>\n",
       "  <tbody>\n",
       "    <tr>\n",
       "      <th>0</th>\n",
       "      <td>KP281</td>\n",
       "      <td>18</td>\n",
       "      <td>Male</td>\n",
       "      <td>14</td>\n",
       "      <td>Single</td>\n",
       "      <td>3</td>\n",
       "      <td>4</td>\n",
       "      <td>29562</td>\n",
       "      <td>112</td>\n",
       "      <td>1500</td>\n",
       "    </tr>\n",
       "    <tr>\n",
       "      <th>1</th>\n",
       "      <td>KP281</td>\n",
       "      <td>19</td>\n",
       "      <td>Male</td>\n",
       "      <td>15</td>\n",
       "      <td>Single</td>\n",
       "      <td>2</td>\n",
       "      <td>3</td>\n",
       "      <td>31836</td>\n",
       "      <td>75</td>\n",
       "      <td>1500</td>\n",
       "    </tr>\n",
       "    <tr>\n",
       "      <th>2</th>\n",
       "      <td>KP281</td>\n",
       "      <td>19</td>\n",
       "      <td>Female</td>\n",
       "      <td>14</td>\n",
       "      <td>Partnered</td>\n",
       "      <td>4</td>\n",
       "      <td>3</td>\n",
       "      <td>30699</td>\n",
       "      <td>66</td>\n",
       "      <td>1500</td>\n",
       "    </tr>\n",
       "    <tr>\n",
       "      <th>3</th>\n",
       "      <td>KP281</td>\n",
       "      <td>19</td>\n",
       "      <td>Male</td>\n",
       "      <td>12</td>\n",
       "      <td>Single</td>\n",
       "      <td>3</td>\n",
       "      <td>3</td>\n",
       "      <td>32973</td>\n",
       "      <td>85</td>\n",
       "      <td>1500</td>\n",
       "    </tr>\n",
       "    <tr>\n",
       "      <th>4</th>\n",
       "      <td>KP281</td>\n",
       "      <td>20</td>\n",
       "      <td>Male</td>\n",
       "      <td>13</td>\n",
       "      <td>Partnered</td>\n",
       "      <td>4</td>\n",
       "      <td>2</td>\n",
       "      <td>35247</td>\n",
       "      <td>47</td>\n",
       "      <td>1500</td>\n",
       "    </tr>\n",
       "  </tbody>\n",
       "</table>\n",
       "</div>"
      ],
      "text/plain": [
       "  Product  Age  Gender  Education MaritalStatus  Usage  Fitness  Income  \\\n",
       "0   KP281   18    Male         14        Single      3        4   29562   \n",
       "1   KP281   19    Male         15        Single      2        3   31836   \n",
       "2   KP281   19  Female         14     Partnered      4        3   30699   \n",
       "3   KP281   19    Male         12        Single      3        3   32973   \n",
       "4   KP281   20    Male         13     Partnered      4        2   35247   \n",
       "\n",
       "   Miles  treadmill_cost  \n",
       "0    112            1500  \n",
       "1     75            1500  \n",
       "2     66            1500  \n",
       "3     85            1500  \n",
       "4     47            1500  "
      ]
     },
     "execution_count": 23,
     "metadata": {},
     "output_type": "execute_result"
    }
   ],
   "source": [
    "df.head()"
   ]
  },
  {
   "cell_type": "code",
   "execution_count": 27,
   "id": "73cd43d4",
   "metadata": {},
   "outputs": [
    {
     "data": {
      "text/plain": [
       "(180, 10)"
      ]
     },
     "execution_count": 27,
     "metadata": {},
     "output_type": "execute_result"
    }
   ],
   "source": [
    "df.shape"
   ]
  },
  {
   "cell_type": "code",
   "execution_count": 28,
   "id": "955d0b71",
   "metadata": {},
   "outputs": [],
   "source": [
    "# cost of treadmill column added successfully"
   ]
  },
  {
   "cell_type": "code",
   "execution_count": 30,
   "id": "4aba05c4",
   "metadata": {},
   "outputs": [
    {
     "data": {
      "text/plain": [
       "Gender\n",
       "Male      104\n",
       "Female     76\n",
       "Name: count, dtype: int64"
      ]
     },
     "execution_count": 30,
     "metadata": {},
     "output_type": "execute_result"
    }
   ],
   "source": [
    "# what is ratio of male and female\n",
    "\n",
    "df[\"Gender\"].value_counts()"
   ]
  },
  {
   "cell_type": "code",
   "execution_count": 101,
   "id": "6a9f37df",
   "metadata": {},
   "outputs": [
    {
     "data": {
      "image/png": "[encoded data removed]",
      "text/plain": [
       "<Figure size 640x480 with 1 Axes>"
      ]
     },
     "metadata": {},
     "output_type": "display_data"
    }
   ],
   "source": [
    "ax = sns.barplot(data=df[\"Gender\"].value_counts().to_frame().reset_index(),\n",
    "           x=\"Gender\", y=\"count\")\n",
    "\n",
    "plt.title(\"Male & Female count\", fontsize=20)\n",
    "plt.xlabel(\"Gender\", fontsize=20)\n",
    "plt.ylabel(\"Count\", fontsize=20)\n",
    "\n",
    "for i in ax.containers:\n",
    "    ax.bar_label(i,)\n",
    "\n",
    "plt.tight_layout()\n",
    "plt.show()"
   ]
  },
  {
   "cell_type": "code",
   "execution_count": 31,
   "id": "51d032b0",
   "metadata": {},
   "outputs": [],
   "source": [
    "# More males opt for treadmills as compared to females."
   ]
  },
  {
   "cell_type": "code",
   "execution_count": 38,
   "id": "38901dba",
   "metadata": {},
   "outputs": [
    {
     "data": {
      "text/html": [
       "<div>\n",
       "<style scoped>\n",
       "    .dataframe tbody tr th:only-of-type {\n",
       "        vertical-align: middle;\n",
       "    }\n",
       "\n",
       "    .dataframe tbody tr th {\n",
       "        vertical-align: top;\n",
       "    }\n",
       "\n",
       "    .dataframe thead tr th {\n",
       "        text-align: left;\n",
       "    }\n",
       "\n",
       "    .dataframe thead tr:last-of-type th {\n",
       "        text-align: right;\n",
       "    }\n",
       "</style>\n",
       "<table border=\"1\" class=\"dataframe\">\n",
       "  <thead>\n",
       "    <tr>\n",
       "      <th></th>\n",
       "      <th colspan=\"2\" halign=\"left\">Age</th>\n",
       "    </tr>\n",
       "    <tr>\n",
       "      <th></th>\n",
       "      <th>min</th>\n",
       "      <th>max</th>\n",
       "    </tr>\n",
       "    <tr>\n",
       "      <th>Gender</th>\n",
       "      <th></th>\n",
       "      <th></th>\n",
       "    </tr>\n",
       "  </thead>\n",
       "  <tbody>\n",
       "    <tr>\n",
       "      <th>Female</th>\n",
       "      <td>19</td>\n",
       "      <td>50</td>\n",
       "    </tr>\n",
       "    <tr>\n",
       "      <th>Male</th>\n",
       "      <td>18</td>\n",
       "      <td>48</td>\n",
       "    </tr>\n",
       "  </tbody>\n",
       "</table>\n",
       "</div>"
      ],
      "text/plain": [
       "       Age    \n",
       "       min max\n",
       "Gender        \n",
       "Female  19  50\n",
       "Male    18  48"
      ]
     },
     "execution_count": 38,
     "metadata": {},
     "output_type": "execute_result"
    }
   ],
   "source": [
    "# gender wise age group\n",
    "\n",
    "df.groupby(\"Gender\").agg({\"Age\":(\"min\",\"max\")})"
   ]
  },
  {
   "cell_type": "code",
   "execution_count": 39,
   "id": "db23a5f9",
   "metadata": {},
   "outputs": [],
   "source": [
    "# It can be inferred that people b/w age group of 18-50 opt for treadmill, irrespective of the gender"
   ]
  },
  {
   "cell_type": "code",
   "execution_count": 40,
   "id": "1d643090",
   "metadata": {},
   "outputs": [
    {
     "data": {
      "text/html": [
       "<div>\n",
       "<style scoped>\n",
       "    .dataframe tbody tr th:only-of-type {\n",
       "        vertical-align: middle;\n",
       "    }\n",
       "\n",
       "    .dataframe tbody tr th {\n",
       "        vertical-align: top;\n",
       "    }\n",
       "\n",
       "    .dataframe thead tr th {\n",
       "        text-align: left;\n",
       "    }\n",
       "\n",
       "    .dataframe thead tr:last-of-type th {\n",
       "        text-align: right;\n",
       "    }\n",
       "</style>\n",
       "<table border=\"1\" class=\"dataframe\">\n",
       "  <thead>\n",
       "    <tr>\n",
       "      <th></th>\n",
       "      <th></th>\n",
       "      <th colspan=\"2\" halign=\"left\">Income</th>\n",
       "    </tr>\n",
       "    <tr>\n",
       "      <th></th>\n",
       "      <th></th>\n",
       "      <th>min</th>\n",
       "      <th>max</th>\n",
       "    </tr>\n",
       "    <tr>\n",
       "      <th>Product</th>\n",
       "      <th>treadmill_cost</th>\n",
       "      <th></th>\n",
       "      <th></th>\n",
       "    </tr>\n",
       "  </thead>\n",
       "  <tbody>\n",
       "    <tr>\n",
       "      <th>KP281</th>\n",
       "      <th>1500</th>\n",
       "      <td>29562</td>\n",
       "      <td>68220</td>\n",
       "    </tr>\n",
       "    <tr>\n",
       "      <th>KP481</th>\n",
       "      <th>1750</th>\n",
       "      <td>31836</td>\n",
       "      <td>67083</td>\n",
       "    </tr>\n",
       "    <tr>\n",
       "      <th>KP781</th>\n",
       "      <th>2500</th>\n",
       "      <td>48556</td>\n",
       "      <td>104581</td>\n",
       "    </tr>\n",
       "  </tbody>\n",
       "</table>\n",
       "</div>"
      ],
      "text/plain": [
       "                       Income        \n",
       "                          min     max\n",
       "Product treadmill_cost               \n",
       "KP281   1500            29562   68220\n",
       "KP481   1750            31836   67083\n",
       "KP781   2500            48556  104581"
      ]
     },
     "execution_count": 40,
     "metadata": {},
     "output_type": "execute_result"
    }
   ],
   "source": [
    "# Product wise income group\n",
    "# this is to infer if the income of the person affects the cost of the treadmill he or she will opt for?\n",
    "\n",
    "df.groupby([\"Product\", \"treadmill_cost\"]).agg({\"Income\":(\"min\",\"max\")})"
   ]
  },
  {
   "cell_type": "code",
   "execution_count": 363,
   "id": "87e13bfe",
   "metadata": {},
   "outputs": [
    {
     "data": {
      "image/png": "[encoded data removed]",
      "text/plain": [
       "<Figure size 640x480 with 1 Axes>"
      ]
     },
     "metadata": {},
     "output_type": "display_data"
    }
   ],
   "source": [
    "sns.scatterplot(data=df, x=\"Income\", y=\"Product\", s=50, alpha=0.5)\n",
    "plt.show()"
   ]
  },
  {
   "cell_type": "code",
   "execution_count": 41,
   "id": "c005aeff",
   "metadata": {},
   "outputs": [],
   "source": [
    "# There is technically no difference in the customer's income who choose between KP281 & KP481 treadmills.\n",
    "# Although people with higher income does prefer more expensive KP781 treadmill."
   ]
  },
  {
   "cell_type": "code",
   "execution_count": 42,
   "id": "e801e3b8",
   "metadata": {},
   "outputs": [
    {
     "data": {
      "text/plain": [
       "(2, 7)"
      ]
     },
     "execution_count": 42,
     "metadata": {},
     "output_type": "execute_result"
    }
   ],
   "source": [
    "df[\"Usage\"].min(), df[\"Usage\"].max()"
   ]
  },
  {
   "cell_type": "code",
   "execution_count": 43,
   "id": "1e36ddb6",
   "metadata": {},
   "outputs": [
    {
     "data": {
      "text/plain": [
       "(21, 360)"
      ]
     },
     "execution_count": 43,
     "metadata": {},
     "output_type": "execute_result"
    }
   ],
   "source": [
    "df[\"Miles\"].min(), df[\"Miles\"].max()"
   ]
  },
  {
   "cell_type": "code",
   "execution_count": 44,
   "id": "e7f77534",
   "metadata": {},
   "outputs": [
    {
     "data": {
      "text/plain": [
       "MaritalStatus\n",
       "Partnered    107\n",
       "Single        73\n",
       "Name: count, dtype: int64"
      ]
     },
     "execution_count": 44,
     "metadata": {},
     "output_type": "execute_result"
    }
   ],
   "source": [
    "df[\"MaritalStatus\"].value_counts()"
   ]
  },
  {
   "cell_type": "code",
   "execution_count": 45,
   "id": "fd850622",
   "metadata": {},
   "outputs": [],
   "source": [
    "# People having partners (married people) tend to align to treadmill more than singles."
   ]
  },
  {
   "cell_type": "code",
   "execution_count": 51,
   "id": "6350afe1",
   "metadata": {},
   "outputs": [
    {
     "data": {
      "text/html": [
       "<div>\n",
       "<style scoped>\n",
       "    .dataframe tbody tr th:only-of-type {\n",
       "        vertical-align: middle;\n",
       "    }\n",
       "\n",
       "    .dataframe tbody tr th {\n",
       "        vertical-align: top;\n",
       "    }\n",
       "\n",
       "    .dataframe thead th {\n",
       "        text-align: right;\n",
       "    }\n",
       "</style>\n",
       "<table border=\"1\" class=\"dataframe\">\n",
       "  <thead>\n",
       "    <tr style=\"text-align: right;\">\n",
       "      <th></th>\n",
       "      <th>Product</th>\n",
       "      <th>treadmill_cost</th>\n",
       "      <th>MaritalStatus</th>\n",
       "      <th>Count</th>\n",
       "    </tr>\n",
       "  </thead>\n",
       "  <tbody>\n",
       "    <tr>\n",
       "      <th>0</th>\n",
       "      <td>KP281</td>\n",
       "      <td>1500</td>\n",
       "      <td>Partnered</td>\n",
       "      <td>48</td>\n",
       "    </tr>\n",
       "    <tr>\n",
       "      <th>1</th>\n",
       "      <td>KP281</td>\n",
       "      <td>1500</td>\n",
       "      <td>Single</td>\n",
       "      <td>32</td>\n",
       "    </tr>\n",
       "    <tr>\n",
       "      <th>2</th>\n",
       "      <td>KP481</td>\n",
       "      <td>1750</td>\n",
       "      <td>Partnered</td>\n",
       "      <td>36</td>\n",
       "    </tr>\n",
       "    <tr>\n",
       "      <th>3</th>\n",
       "      <td>KP481</td>\n",
       "      <td>1750</td>\n",
       "      <td>Single</td>\n",
       "      <td>24</td>\n",
       "    </tr>\n",
       "    <tr>\n",
       "      <th>4</th>\n",
       "      <td>KP781</td>\n",
       "      <td>2500</td>\n",
       "      <td>Partnered</td>\n",
       "      <td>23</td>\n",
       "    </tr>\n",
       "    <tr>\n",
       "      <th>5</th>\n",
       "      <td>KP781</td>\n",
       "      <td>2500</td>\n",
       "      <td>Single</td>\n",
       "      <td>17</td>\n",
       "    </tr>\n",
       "  </tbody>\n",
       "</table>\n",
       "</div>"
      ],
      "text/plain": [
       "  Product  treadmill_cost MaritalStatus  Count\n",
       "0   KP281            1500     Partnered     48\n",
       "1   KP281            1500        Single     32\n",
       "2   KP481            1750     Partnered     36\n",
       "3   KP481            1750        Single     24\n",
       "4   KP781            2500     Partnered     23\n",
       "5   KP781            2500        Single     17"
      ]
     },
     "execution_count": 51,
     "metadata": {},
     "output_type": "execute_result"
    }
   ],
   "source": [
    "# Count of people with their corresponding marital status for each type of treadmill\n",
    "\n",
    "temp = df.groupby([\"Product\", \"treadmill_cost\", \"MaritalStatus\"]).size().reset_index(name='Count')\n",
    "temp"
   ]
  },
  {
   "cell_type": "code",
   "execution_count": 86,
   "id": "5b771549",
   "metadata": {},
   "outputs": [],
   "source": [
    "# Married people opt for treadmill more than singles, irrespective of the treadmill cost"
   ]
  },
  {
   "cell_type": "code",
   "execution_count": 107,
   "id": "06f937ac",
   "metadata": {
    "scrolled": false
   },
   "outputs": [
    {
     "data": {
      "image/png": "[encoded data removed]",
      "text/plain": [
       "<Figure size 1000x800 with 1 Axes>"
      ]
     },
     "metadata": {},
     "output_type": "display_data"
    }
   ],
   "source": [
    "# Visuallising the same with a bar plot\n",
    "\n",
    "plt.figure(figsize=(10, 8))\n",
    "\n",
    "ax = sns.barplot(data=temp, x=\"Product\", y=\"Count\", hue=\"MaritalStatus\")\n",
    "\n",
    "plt.title(\"Product vs Count of people\", fontsize=18)\n",
    "plt.xlabel(\"Product\", fontsize=18)\n",
    "plt.ylabel(\"Count\", fontsize=18)\n",
    "\n",
    "# To write the value of each bar height on top it\n",
    "for i in ax.containers:\n",
    "    ax.bar_label(i,)\n",
    "\n",
    "plt.legend(fontsize=20)\n",
    "plt.tight_layout()\n",
    "\n",
    "# plt.savefig(\"Product vs Count of people.png\")\n",
    "plt.show()"
   ]
  },
  {
   "cell_type": "code",
   "execution_count": 103,
   "id": "3ee2aceb",
   "metadata": {},
   "outputs": [],
   "source": [
    "# Count of people of each fitness ranking for each treadmill type\n",
    "\n",
    "df_fitness = df.groupby([\"Product\", \"treadmill_cost\", \"Fitness\"]).size().reset_index(name='Count')"
   ]
  },
  {
   "cell_type": "code",
   "execution_count": 104,
   "id": "ee3215cc",
   "metadata": {},
   "outputs": [
    {
     "data": {
      "text/html": [
       "<div>\n",
       "<style scoped>\n",
       "    .dataframe tbody tr th:only-of-type {\n",
       "        vertical-align: middle;\n",
       "    }\n",
       "\n",
       "    .dataframe tbody tr th {\n",
       "        vertical-align: top;\n",
       "    }\n",
       "\n",
       "    .dataframe thead th {\n",
       "        text-align: right;\n",
       "    }\n",
       "</style>\n",
       "<table border=\"1\" class=\"dataframe\">\n",
       "  <thead>\n",
       "    <tr style=\"text-align: right;\">\n",
       "      <th></th>\n",
       "      <th>Product</th>\n",
       "      <th>treadmill_cost</th>\n",
       "      <th>Fitness</th>\n",
       "      <th>Count</th>\n",
       "    </tr>\n",
       "  </thead>\n",
       "  <tbody>\n",
       "    <tr>\n",
       "      <th>0</th>\n",
       "      <td>KP281</td>\n",
       "      <td>1500</td>\n",
       "      <td>1</td>\n",
       "      <td>1</td>\n",
       "    </tr>\n",
       "    <tr>\n",
       "      <th>1</th>\n",
       "      <td>KP281</td>\n",
       "      <td>1500</td>\n",
       "      <td>2</td>\n",
       "      <td>14</td>\n",
       "    </tr>\n",
       "    <tr>\n",
       "      <th>2</th>\n",
       "      <td>KP281</td>\n",
       "      <td>1500</td>\n",
       "      <td>3</td>\n",
       "      <td>54</td>\n",
       "    </tr>\n",
       "    <tr>\n",
       "      <th>3</th>\n",
       "      <td>KP281</td>\n",
       "      <td>1500</td>\n",
       "      <td>4</td>\n",
       "      <td>9</td>\n",
       "    </tr>\n",
       "    <tr>\n",
       "      <th>4</th>\n",
       "      <td>KP281</td>\n",
       "      <td>1500</td>\n",
       "      <td>5</td>\n",
       "      <td>2</td>\n",
       "    </tr>\n",
       "    <tr>\n",
       "      <th>5</th>\n",
       "      <td>KP481</td>\n",
       "      <td>1750</td>\n",
       "      <td>1</td>\n",
       "      <td>1</td>\n",
       "    </tr>\n",
       "    <tr>\n",
       "      <th>6</th>\n",
       "      <td>KP481</td>\n",
       "      <td>1750</td>\n",
       "      <td>2</td>\n",
       "      <td>12</td>\n",
       "    </tr>\n",
       "    <tr>\n",
       "      <th>7</th>\n",
       "      <td>KP481</td>\n",
       "      <td>1750</td>\n",
       "      <td>3</td>\n",
       "      <td>39</td>\n",
       "    </tr>\n",
       "    <tr>\n",
       "      <th>8</th>\n",
       "      <td>KP481</td>\n",
       "      <td>1750</td>\n",
       "      <td>4</td>\n",
       "      <td>8</td>\n",
       "    </tr>\n",
       "    <tr>\n",
       "      <th>9</th>\n",
       "      <td>KP781</td>\n",
       "      <td>2500</td>\n",
       "      <td>3</td>\n",
       "      <td>4</td>\n",
       "    </tr>\n",
       "    <tr>\n",
       "      <th>10</th>\n",
       "      <td>KP781</td>\n",
       "      <td>2500</td>\n",
       "      <td>4</td>\n",
       "      <td>7</td>\n",
       "    </tr>\n",
       "    <tr>\n",
       "      <th>11</th>\n",
       "      <td>KP781</td>\n",
       "      <td>2500</td>\n",
       "      <td>5</td>\n",
       "      <td>29</td>\n",
       "    </tr>\n",
       "  </tbody>\n",
       "</table>\n",
       "</div>"
      ],
      "text/plain": [
       "   Product  treadmill_cost  Fitness  Count\n",
       "0    KP281            1500        1      1\n",
       "1    KP281            1500        2     14\n",
       "2    KP281            1500        3     54\n",
       "3    KP281            1500        4      9\n",
       "4    KP281            1500        5      2\n",
       "5    KP481            1750        1      1\n",
       "6    KP481            1750        2     12\n",
       "7    KP481            1750        3     39\n",
       "8    KP481            1750        4      8\n",
       "9    KP781            2500        3      4\n",
       "10   KP781            2500        4      7\n",
       "11   KP781            2500        5     29"
      ]
     },
     "execution_count": 104,
     "metadata": {},
     "output_type": "execute_result"
    }
   ],
   "source": [
    "df_fitness"
   ]
  },
  {
   "cell_type": "code",
   "execution_count": 120,
   "id": "ef2a4c55",
   "metadata": {},
   "outputs": [
    {
     "data": {
      "image/png": "[encoded data removed]",
      "text/plain": [
       "<Figure size 1000x500 with 1 Axes>"
      ]
     },
     "metadata": {},
     "output_type": "display_data"
    }
   ],
   "source": [
    "# Visuallising the same\n",
    "plt.figure(figsize=(10, 5))\n",
    "\n",
    "ax = sns.barplot(data=df_fitness, x=\"Fitness\", y=\"Count\", hue=\"Product\")\n",
    "\n",
    "for i in ax.containers:\n",
    "    ax.bar_label(i)\n",
    "\n",
    "plt.title(\"Fitness level vs Count of people\", fontsize=15)\n",
    "plt.xlabel(\"Fitness level\", fontsize=15)\n",
    "plt.ylabel(\"Count of people\", fontsize=15)\n",
    "plt.xticks(fontsize=12)\n",
    "plt.legend(fontsize=15)\n",
    "\n",
    "plt.tight_layout()\n",
    "plt.show()"
   ]
  },
  {
   "cell_type": "code",
   "execution_count": 122,
   "id": "9874326a",
   "metadata": {},
   "outputs": [],
   "source": [
    "# From the graph it can be inferred that:\n",
    "#     The most fit people (level 5) choose to prefer more expensive treadmill. \n",
    "#     This could be due a psychological factor as well that costly the product better the quality it will have, \n",
    "#     hence better result\n",
    "\n",
    "# People with moderate fitness, tend to choose cheapest treadmill more compared to expensive one:\n",
    "#     Maybe they prioritise on maintaining their current fitness and the cheapest treadmill will do just fine."
   ]
  },
  {
   "cell_type": "code",
   "execution_count": 123,
   "id": "747ac878",
   "metadata": {},
   "outputs": [],
   "source": [
    "# Also most no. of people are of fitness level 3 (Moderately fit)"
   ]
  },
  {
   "cell_type": "markdown",
   "id": "f52319b9",
   "metadata": {},
   "source": [
    "# Detecting ouliers, if any"
   ]
  },
  {
   "cell_type": "code",
   "execution_count": 124,
   "id": "51a44ff1",
   "metadata": {},
   "outputs": [
    {
     "data": {
      "text/html": [
       "<div>\n",
       "<style scoped>\n",
       "    .dataframe tbody tr th:only-of-type {\n",
       "        vertical-align: middle;\n",
       "    }\n",
       "\n",
       "    .dataframe tbody tr th {\n",
       "        vertical-align: top;\n",
       "    }\n",
       "\n",
       "    .dataframe thead th {\n",
       "        text-align: right;\n",
       "    }\n",
       "</style>\n",
       "<table border=\"1\" class=\"dataframe\">\n",
       "  <thead>\n",
       "    <tr style=\"text-align: right;\">\n",
       "      <th></th>\n",
       "      <th>Product</th>\n",
       "      <th>Age</th>\n",
       "      <th>Gender</th>\n",
       "      <th>Education</th>\n",
       "      <th>MaritalStatus</th>\n",
       "      <th>Usage</th>\n",
       "      <th>Fitness</th>\n",
       "      <th>Income</th>\n",
       "      <th>Miles</th>\n",
       "      <th>treadmill_cost</th>\n",
       "    </tr>\n",
       "  </thead>\n",
       "  <tbody>\n",
       "    <tr>\n",
       "      <th>0</th>\n",
       "      <td>KP281</td>\n",
       "      <td>18</td>\n",
       "      <td>Male</td>\n",
       "      <td>14</td>\n",
       "      <td>Single</td>\n",
       "      <td>3</td>\n",
       "      <td>4</td>\n",
       "      <td>29562</td>\n",
       "      <td>112</td>\n",
       "      <td>1500</td>\n",
       "    </tr>\n",
       "    <tr>\n",
       "      <th>1</th>\n",
       "      <td>KP281</td>\n",
       "      <td>19</td>\n",
       "      <td>Male</td>\n",
       "      <td>15</td>\n",
       "      <td>Single</td>\n",
       "      <td>2</td>\n",
       "      <td>3</td>\n",
       "      <td>31836</td>\n",
       "      <td>75</td>\n",
       "      <td>1500</td>\n",
       "    </tr>\n",
       "    <tr>\n",
       "      <th>2</th>\n",
       "      <td>KP281</td>\n",
       "      <td>19</td>\n",
       "      <td>Female</td>\n",
       "      <td>14</td>\n",
       "      <td>Partnered</td>\n",
       "      <td>4</td>\n",
       "      <td>3</td>\n",
       "      <td>30699</td>\n",
       "      <td>66</td>\n",
       "      <td>1500</td>\n",
       "    </tr>\n",
       "    <tr>\n",
       "      <th>3</th>\n",
       "      <td>KP281</td>\n",
       "      <td>19</td>\n",
       "      <td>Male</td>\n",
       "      <td>12</td>\n",
       "      <td>Single</td>\n",
       "      <td>3</td>\n",
       "      <td>3</td>\n",
       "      <td>32973</td>\n",
       "      <td>85</td>\n",
       "      <td>1500</td>\n",
       "    </tr>\n",
       "    <tr>\n",
       "      <th>4</th>\n",
       "      <td>KP281</td>\n",
       "      <td>20</td>\n",
       "      <td>Male</td>\n",
       "      <td>13</td>\n",
       "      <td>Partnered</td>\n",
       "      <td>4</td>\n",
       "      <td>2</td>\n",
       "      <td>35247</td>\n",
       "      <td>47</td>\n",
       "      <td>1500</td>\n",
       "    </tr>\n",
       "  </tbody>\n",
       "</table>\n",
       "</div>"
      ],
      "text/plain": [
       "  Product  Age  Gender  Education MaritalStatus  Usage  Fitness  Income  \\\n",
       "0   KP281   18    Male         14        Single      3        4   29562   \n",
       "1   KP281   19    Male         15        Single      2        3   31836   \n",
       "2   KP281   19  Female         14     Partnered      4        3   30699   \n",
       "3   KP281   19    Male         12        Single      3        3   32973   \n",
       "4   KP281   20    Male         13     Partnered      4        2   35247   \n",
       "\n",
       "   Miles  treadmill_cost  \n",
       "0    112            1500  \n",
       "1     75            1500  \n",
       "2     66            1500  \n",
       "3     85            1500  \n",
       "4     47            1500  "
      ]
     },
     "execution_count": 124,
     "metadata": {},
     "output_type": "execute_result"
    }
   ],
   "source": [
    "df.head()"
   ]
  },
  {
   "cell_type": "code",
   "execution_count": 125,
   "id": "c7f142a7",
   "metadata": {},
   "outputs": [
    {
     "name": "stdout",
     "output_type": "stream",
     "text": [
      "<class 'pandas.core.frame.DataFrame'>\n",
      "RangeIndex: 180 entries, 0 to 179\n",
      "Data columns (total 10 columns):\n",
      " #   Column          Non-Null Count  Dtype \n",
      "---  ------          --------------  ----- \n",
      " 0   Product         180 non-null    object\n",
      " 1   Age             180 non-null    int64 \n",
      " 2   Gender          180 non-null    object\n",
      " 3   Education       180 non-null    int64 \n",
      " 4   MaritalStatus   180 non-null    object\n",
      " 5   Usage           180 non-null    int64 \n",
      " 6   Fitness         180 non-null    int64 \n",
      " 7   Income          180 non-null    int64 \n",
      " 8   Miles           180 non-null    int64 \n",
      " 9   treadmill_cost  180 non-null    int64 \n",
      "dtypes: int64(7), object(3)\n",
      "memory usage: 14.2+ KB\n"
     ]
    }
   ],
   "source": [
    "df.info()"
   ]
  },
  {
   "cell_type": "code",
   "execution_count": 127,
   "id": "945b5cb1",
   "metadata": {},
   "outputs": [],
   "source": [
    "# Outliers can be detected for numerical & continuous columns."
   ]
  },
  {
   "cell_type": "markdown",
   "id": "92392f1c",
   "metadata": {},
   "source": [
    "### Age"
   ]
  },
  {
   "cell_type": "code",
   "execution_count": 129,
   "id": "50167914",
   "metadata": {},
   "outputs": [
    {
     "data": {
      "image/png": "[encoded data removed]",
      "text/plain": [
       "<Figure size 640x480 with 1 Axes>"
      ]
     },
     "metadata": {},
     "output_type": "display_data"
    }
   ],
   "source": [
    "sns.boxplot(data=df, x=\"Age\")\n",
    "plt.show()"
   ]
  },
  {
   "cell_type": "code",
   "execution_count": 130,
   "id": "7252bff9",
   "metadata": {},
   "outputs": [
    {
     "data": {
      "text/plain": [
       "count    180.000000\n",
       "mean      28.788889\n",
       "std        6.943498\n",
       "min       18.000000\n",
       "25%       24.000000\n",
       "50%       26.000000\n",
       "75%       33.000000\n",
       "max       50.000000\n",
       "Name: Age, dtype: float64"
      ]
     },
     "execution_count": 130,
     "metadata": {},
     "output_type": "execute_result"
    }
   ],
   "source": [
    "df[\"Age\"].describe()"
   ]
  },
  {
   "cell_type": "code",
   "execution_count": 134,
   "id": "3987c0d4",
   "metadata": {},
   "outputs": [
    {
     "data": {
      "text/plain": [
       "24.0"
      ]
     },
     "execution_count": 134,
     "metadata": {},
     "output_type": "execute_result"
    }
   ],
   "source": [
    "q1_age = np.percentile(df[\"Age\"], 25)\n",
    "q1_age"
   ]
  },
  {
   "cell_type": "code",
   "execution_count": 135,
   "id": "a14c4ff0",
   "metadata": {},
   "outputs": [
    {
     "data": {
      "text/plain": [
       "33.0"
      ]
     },
     "execution_count": 135,
     "metadata": {},
     "output_type": "execute_result"
    }
   ],
   "source": [
    "q3_age = np.percentile(df[\"Age\"], 75)\n",
    "q3_age"
   ]
  },
  {
   "cell_type": "code",
   "execution_count": 133,
   "id": "c095cdde",
   "metadata": {},
   "outputs": [],
   "source": [
    "# since this is age, all the outliers will be on upper limit side, as age can't be negative"
   ]
  },
  {
   "cell_type": "code",
   "execution_count": 137,
   "id": "0a7e9f56",
   "metadata": {},
   "outputs": [
    {
     "data": {
      "text/plain": [
       "9.0"
      ]
     },
     "execution_count": 137,
     "metadata": {},
     "output_type": "execute_result"
    }
   ],
   "source": [
    "# Inter quartile range\n",
    "\n",
    "iqr_age = q3_age - q1_age\n",
    "iqr_age"
   ]
  },
  {
   "cell_type": "code",
   "execution_count": 138,
   "id": "0fc84a7a",
   "metadata": {},
   "outputs": [
    {
     "data": {
      "text/plain": [
       "32"
      ]
     },
     "execution_count": 138,
     "metadata": {},
     "output_type": "execute_result"
    }
   ],
   "source": [
    "range_age = df[\"Age\"].max() - df[\"Age\"].min()\n",
    "range_age"
   ]
  },
  {
   "cell_type": "code",
   "execution_count": 139,
   "id": "c77e288c",
   "metadata": {},
   "outputs": [],
   "source": [
    "# there is a huge difference in the actual range in interquartile range.\n",
    "# This is due to the presence of outliers."
   ]
  },
  {
   "cell_type": "code",
   "execution_count": 140,
   "id": "23d1b8d3",
   "metadata": {},
   "outputs": [],
   "source": [
    "# finding outliers"
   ]
  },
  {
   "cell_type": "code",
   "execution_count": 141,
   "id": "d80d0d1a",
   "metadata": {},
   "outputs": [
    {
     "data": {
      "text/plain": [
       "46.5"
      ]
     },
     "execution_count": 141,
     "metadata": {},
     "output_type": "execute_result"
    }
   ],
   "source": [
    "upper_lim_age = q3_age + 1.5*iqr_age\n",
    "upper_lim_age"
   ]
  },
  {
   "cell_type": "code",
   "execution_count": 160,
   "id": "4bf89a35",
   "metadata": {},
   "outputs": [
    {
     "data": {
      "text/plain": [
       "array([47, 50, 48])"
      ]
     },
     "execution_count": 160,
     "metadata": {},
     "output_type": "execute_result"
    }
   ],
   "source": [
    "# List of ages which are outliers\n",
    "\n",
    "outliers_age = df[df[\"Age\"] > upper_lim_age][\"Age\"].unique()\n",
    "outliers_age"
   ]
  },
  {
   "cell_type": "markdown",
   "id": "b24b97fd",
   "metadata": {},
   "source": [
    "### Education"
   ]
  },
  {
   "cell_type": "code",
   "execution_count": 149,
   "id": "894d71f8",
   "metadata": {},
   "outputs": [
    {
     "name": "stdout",
     "output_type": "stream",
     "text": [
      "<class 'pandas.core.frame.DataFrame'>\n",
      "RangeIndex: 180 entries, 0 to 179\n",
      "Data columns (total 10 columns):\n",
      " #   Column          Non-Null Count  Dtype \n",
      "---  ------          --------------  ----- \n",
      " 0   Product         180 non-null    object\n",
      " 1   Age             180 non-null    int64 \n",
      " 2   Gender          180 non-null    object\n",
      " 3   Education       180 non-null    int64 \n",
      " 4   MaritalStatus   180 non-null    object\n",
      " 5   Usage           180 non-null    int64 \n",
      " 6   Fitness         180 non-null    int64 \n",
      " 7   Income          180 non-null    int64 \n",
      " 8   Miles           180 non-null    int64 \n",
      " 9   treadmill_cost  180 non-null    int64 \n",
      "dtypes: int64(7), object(3)\n",
      "memory usage: 14.2+ KB\n"
     ]
    }
   ],
   "source": [
    "df.info()"
   ]
  },
  {
   "cell_type": "code",
   "execution_count": 150,
   "id": "bf3b1417",
   "metadata": {},
   "outputs": [
    {
     "data": {
      "image/png": "[encoded data removed]",
      "text/plain": [
       "<Figure size 640x480 with 1 Axes>"
      ]
     },
     "metadata": {},
     "output_type": "display_data"
    }
   ],
   "source": [
    "sns.boxplot(data=df, x=\"Education\")\n",
    "plt.show()"
   ]
  },
  {
   "cell_type": "code",
   "execution_count": 151,
   "id": "3a959b5d",
   "metadata": {},
   "outputs": [],
   "source": [
    "# Education can have outliers both lower and upper sides.\n",
    "# Although from the box plot it can be clearly inferred that education has only upper limit outliers."
   ]
  },
  {
   "cell_type": "code",
   "execution_count": 152,
   "id": "808df267",
   "metadata": {},
   "outputs": [],
   "source": [
    "# Let's find those outliers"
   ]
  },
  {
   "cell_type": "code",
   "execution_count": 153,
   "id": "c4e4783b",
   "metadata": {},
   "outputs": [
    {
     "data": {
      "text/plain": [
       "count    180.000000\n",
       "mean      15.572222\n",
       "std        1.617055\n",
       "min       12.000000\n",
       "25%       14.000000\n",
       "50%       16.000000\n",
       "75%       16.000000\n",
       "max       21.000000\n",
       "Name: Education, dtype: float64"
      ]
     },
     "execution_count": 153,
     "metadata": {},
     "output_type": "execute_result"
    }
   ],
   "source": [
    "df[\"Education\"].describe()"
   ]
  },
  {
   "cell_type": "code",
   "execution_count": 155,
   "id": "b11bbe5a",
   "metadata": {},
   "outputs": [
    {
     "data": {
      "text/plain": [
       "(14.0, 16.0)"
      ]
     },
     "execution_count": 155,
     "metadata": {},
     "output_type": "execute_result"
    }
   ],
   "source": [
    "q1_edu = np.percentile(df[\"Education\"], 25)\n",
    "q3_edu = np.percentile(df[\"Education\"], 75)\n",
    "\n",
    "q1_edu, q3_edu"
   ]
  },
  {
   "cell_type": "code",
   "execution_count": 156,
   "id": "f6182155",
   "metadata": {},
   "outputs": [
    {
     "data": {
      "text/plain": [
       "2.0"
      ]
     },
     "execution_count": 156,
     "metadata": {},
     "output_type": "execute_result"
    }
   ],
   "source": [
    "# interquartile range\n",
    "\n",
    "iqr_edu = q3_edu - q1_edu\n",
    "iqr_edu"
   ]
  },
  {
   "cell_type": "code",
   "execution_count": 162,
   "id": "b4887e92",
   "metadata": {},
   "outputs": [
    {
     "data": {
      "text/plain": [
       "9"
      ]
     },
     "execution_count": 162,
     "metadata": {},
     "output_type": "execute_result"
    }
   ],
   "source": [
    "# normal range\n",
    "\n",
    "df[\"Education\"].max() - df[\"Education\"].min()"
   ]
  },
  {
   "cell_type": "code",
   "execution_count": 157,
   "id": "c17beb1c",
   "metadata": {},
   "outputs": [
    {
     "data": {
      "text/plain": [
       "(11.0, 19.0)"
      ]
     },
     "execution_count": 157,
     "metadata": {},
     "output_type": "execute_result"
    }
   ],
   "source": [
    "# lower and upper limit\n",
    "\n",
    "lower_lim_edu = q1_edu - 1.5 * iqr_edu\n",
    "upper_lim_edu = q3_edu + 1.5 * iqr_edu\n",
    "\n",
    "lower_lim_edu, upper_lim_edu"
   ]
  },
  {
   "cell_type": "code",
   "execution_count": 158,
   "id": "2488f4f3",
   "metadata": {},
   "outputs": [],
   "source": [
    "# since the lower limit is less than minimum value, there are no lower limit outliers\n",
    "# since the upper limit is less than maximum value, there are upper limit outliers\n",
    "\n",
    "# Same can be inferred from the box plot as well"
   ]
  },
  {
   "cell_type": "code",
   "execution_count": 161,
   "id": "6b926912",
   "metadata": {},
   "outputs": [
    {
     "data": {
      "text/plain": [
       "array([20, 21])"
      ]
     },
     "execution_count": 161,
     "metadata": {},
     "output_type": "execute_result"
    }
   ],
   "source": [
    "# finding outliers\n",
    "\n",
    "outliers_edu = df[df[\"Education\"] > upper_lim_edu][\"Education\"].unique()\n",
    "outliers_edu"
   ]
  },
  {
   "cell_type": "markdown",
   "id": "92bda129",
   "metadata": {},
   "source": [
    "### Usage"
   ]
  },
  {
   "cell_type": "code",
   "execution_count": 163,
   "id": "1d12ade1",
   "metadata": {},
   "outputs": [
    {
     "name": "stdout",
     "output_type": "stream",
     "text": [
      "<class 'pandas.core.frame.DataFrame'>\n",
      "RangeIndex: 180 entries, 0 to 179\n",
      "Data columns (total 10 columns):\n",
      " #   Column          Non-Null Count  Dtype \n",
      "---  ------          --------------  ----- \n",
      " 0   Product         180 non-null    object\n",
      " 1   Age             180 non-null    int64 \n",
      " 2   Gender          180 non-null    object\n",
      " 3   Education       180 non-null    int64 \n",
      " 4   MaritalStatus   180 non-null    object\n",
      " 5   Usage           180 non-null    int64 \n",
      " 6   Fitness         180 non-null    int64 \n",
      " 7   Income          180 non-null    int64 \n",
      " 8   Miles           180 non-null    int64 \n",
      " 9   treadmill_cost  180 non-null    int64 \n",
      "dtypes: int64(7), object(3)\n",
      "memory usage: 14.2+ KB\n"
     ]
    }
   ],
   "source": [
    "df.info()"
   ]
  },
  {
   "cell_type": "code",
   "execution_count": 164,
   "id": "130aca10",
   "metadata": {},
   "outputs": [
    {
     "data": {
      "image/png": "[encoded data removed]",
      "text/plain": [
       "<Figure size 640x480 with 1 Axes>"
      ]
     },
     "metadata": {},
     "output_type": "display_data"
    }
   ],
   "source": [
    "sns.boxplot(data=df, x=\"Usage\")\n",
    "plt.show()"
   ]
  },
  {
   "cell_type": "code",
   "execution_count": 165,
   "id": "ac6c9f02",
   "metadata": {},
   "outputs": [],
   "source": [
    "# From the boxplot it is inferred that usage has only upper limit outliers"
   ]
  },
  {
   "cell_type": "code",
   "execution_count": 166,
   "id": "d66bf04e",
   "metadata": {},
   "outputs": [],
   "source": [
    "# Let's verify the same and find those outliers numerically"
   ]
  },
  {
   "cell_type": "code",
   "execution_count": 167,
   "id": "5ecc995e",
   "metadata": {},
   "outputs": [
    {
     "data": {
      "text/plain": [
       "count    180.000000\n",
       "mean       3.455556\n",
       "std        1.084797\n",
       "min        2.000000\n",
       "25%        3.000000\n",
       "50%        3.000000\n",
       "75%        4.000000\n",
       "max        7.000000\n",
       "Name: Usage, dtype: float64"
      ]
     },
     "execution_count": 167,
     "metadata": {},
     "output_type": "execute_result"
    }
   ],
   "source": [
    "df[\"Usage\"].describe()"
   ]
  },
  {
   "cell_type": "code",
   "execution_count": 168,
   "id": "75c66599",
   "metadata": {},
   "outputs": [
    {
     "data": {
      "text/plain": [
       "(3.0, 4.0)"
      ]
     },
     "execution_count": 168,
     "metadata": {},
     "output_type": "execute_result"
    }
   ],
   "source": [
    "# Q1 = 3 & Q3 = 4\n",
    "\n",
    "q1_usage = np.percentile(df[\"Usage\"], 25)\n",
    "q3_usage = np.percentile(df[\"Usage\"], 75)\n",
    "\n",
    "q1_usage, q3_usage"
   ]
  },
  {
   "cell_type": "code",
   "execution_count": 169,
   "id": "a050d901",
   "metadata": {},
   "outputs": [
    {
     "data": {
      "text/plain": [
       "1.0"
      ]
     },
     "execution_count": 169,
     "metadata": {},
     "output_type": "execute_result"
    }
   ],
   "source": [
    "# Interquartile range\n",
    "\n",
    "iqr_usage = q3_usage - q1_usage\n",
    "iqr_usage"
   ]
  },
  {
   "cell_type": "code",
   "execution_count": 170,
   "id": "ca1a97d5",
   "metadata": {},
   "outputs": [
    {
     "data": {
      "text/plain": [
       "5"
      ]
     },
     "execution_count": 170,
     "metadata": {},
     "output_type": "execute_result"
    }
   ],
   "source": [
    "# Normal range = max - min\n",
    "\n",
    "df[\"Usage\"].max() - df[\"Usage\"].min()"
   ]
  },
  {
   "cell_type": "code",
   "execution_count": 171,
   "id": "7bb7ac0c",
   "metadata": {},
   "outputs": [],
   "source": [
    "# Normal range is far greater than IQR\n",
    "# This is due to presence of outliers"
   ]
  },
  {
   "cell_type": "code",
   "execution_count": 172,
   "id": "283aee93",
   "metadata": {},
   "outputs": [
    {
     "data": {
      "text/plain": [
       "(1.5, 5.5)"
      ]
     },
     "execution_count": 172,
     "metadata": {},
     "output_type": "execute_result"
    }
   ],
   "source": [
    "# Lower and upper limit of box plot\n",
    "\n",
    "lower_lim_usage = q1_usage - 1.5 * iqr_usage\n",
    "upper_lim_usage = q3_usage + 1.5 * iqr_usage\n",
    "\n",
    "lower_lim_usage, upper_lim_usage"
   ]
  },
  {
   "cell_type": "code",
   "execution_count": 173,
   "id": "9a79f247",
   "metadata": {},
   "outputs": [],
   "source": [
    "# since lower limit is less than minimum value, i.e. 2, there are no lower limit outliers\n",
    "# since upper limit is less than maximum values i.e. 7, there are upper limit outliers.\n",
    "# The same fact was inferred from the box plot above."
   ]
  },
  {
   "cell_type": "code",
   "execution_count": 174,
   "id": "df929379",
   "metadata": {},
   "outputs": [
    {
     "data": {
      "text/plain": [
       "array([6, 7])"
      ]
     },
     "execution_count": 174,
     "metadata": {},
     "output_type": "execute_result"
    }
   ],
   "source": [
    "# Fiding the outliers in usage column\n",
    "\n",
    "outliers_usage = df[df[\"Usage\"] > upper_lim_usage][\"Usage\"].unique()\n",
    "outliers_usage"
   ]
  },
  {
   "cell_type": "code",
   "execution_count": 176,
   "id": "e0764d5e",
   "metadata": {},
   "outputs": [
    {
     "data": {
      "text/plain": [
       "array([6, 6, 6, 7, 6, 7, 6, 6, 6])"
      ]
     },
     "execution_count": 176,
     "metadata": {},
     "output_type": "execute_result"
    }
   ],
   "source": [
    "df[df[\"Usage\"] > upper_lim_usage][\"Usage\"].to_numpy()"
   ]
  },
  {
   "cell_type": "code",
   "execution_count": 177,
   "id": "018b5830",
   "metadata": {},
   "outputs": [
    {
     "data": {
      "text/plain": [
       "9"
      ]
     },
     "execution_count": 177,
     "metadata": {},
     "output_type": "execute_result"
    }
   ],
   "source": [
    "len(df[df[\"Usage\"] > upper_lim_usage][\"Usage\"].to_numpy())"
   ]
  },
  {
   "cell_type": "code",
   "execution_count": 178,
   "id": "6d5f2d99",
   "metadata": {},
   "outputs": [],
   "source": [
    "# there are total 9 data points which are outliers in the usage column\n",
    "# with only 2 of them being unique."
   ]
  },
  {
   "cell_type": "markdown",
   "id": "bb47d102",
   "metadata": {},
   "source": [
    "### Income"
   ]
  },
  {
   "cell_type": "code",
   "execution_count": 179,
   "id": "8781ab06",
   "metadata": {},
   "outputs": [
    {
     "name": "stdout",
     "output_type": "stream",
     "text": [
      "<class 'pandas.core.frame.DataFrame'>\n",
      "RangeIndex: 180 entries, 0 to 179\n",
      "Data columns (total 10 columns):\n",
      " #   Column          Non-Null Count  Dtype \n",
      "---  ------          --------------  ----- \n",
      " 0   Product         180 non-null    object\n",
      " 1   Age             180 non-null    int64 \n",
      " 2   Gender          180 non-null    object\n",
      " 3   Education       180 non-null    int64 \n",
      " 4   MaritalStatus   180 non-null    object\n",
      " 5   Usage           180 non-null    int64 \n",
      " 6   Fitness         180 non-null    int64 \n",
      " 7   Income          180 non-null    int64 \n",
      " 8   Miles           180 non-null    int64 \n",
      " 9   treadmill_cost  180 non-null    int64 \n",
      "dtypes: int64(7), object(3)\n",
      "memory usage: 14.2+ KB\n"
     ]
    }
   ],
   "source": [
    "df.info()"
   ]
  },
  {
   "cell_type": "code",
   "execution_count": 180,
   "id": "76402d1f",
   "metadata": {},
   "outputs": [
    {
     "data": {
      "image/png": "[encoded data removed]",
      "text/plain": [
       "<Figure size 640x480 with 1 Axes>"
      ]
     },
     "metadata": {},
     "output_type": "display_data"
    }
   ],
   "source": [
    "sns.boxplot(data=df, x=\"Income\")\n",
    "plt.show()"
   ]
  },
  {
   "cell_type": "code",
   "execution_count": 181,
   "id": "dd1c70bc",
   "metadata": {},
   "outputs": [],
   "source": [
    "# Finding outliers"
   ]
  },
  {
   "cell_type": "code",
   "execution_count": 182,
   "id": "83d3e564",
   "metadata": {},
   "outputs": [
    {
     "data": {
      "text/plain": [
       "count       180.000000\n",
       "mean      53719.577778\n",
       "std       16506.684226\n",
       "min       29562.000000\n",
       "25%       44058.750000\n",
       "50%       50596.500000\n",
       "75%       58668.000000\n",
       "max      104581.000000\n",
       "Name: Income, dtype: float64"
      ]
     },
     "execution_count": 182,
     "metadata": {},
     "output_type": "execute_result"
    }
   ],
   "source": [
    "df[\"Income\"].describe()"
   ]
  },
  {
   "cell_type": "code",
   "execution_count": 183,
   "id": "cd0565a0",
   "metadata": {},
   "outputs": [
    {
     "data": {
      "text/plain": [
       "(44058.75, 58668.0)"
      ]
     },
     "execution_count": 183,
     "metadata": {},
     "output_type": "execute_result"
    }
   ],
   "source": [
    "q1_income = np.percentile(df[\"Income\"], 25)\n",
    "q3_income = np.percentile(df[\"Income\"], 75)\n",
    "\n",
    "q1_income, q3_income"
   ]
  },
  {
   "cell_type": "code",
   "execution_count": 184,
   "id": "886391a8",
   "metadata": {},
   "outputs": [
    {
     "data": {
      "text/plain": [
       "14609.25"
      ]
     },
     "execution_count": 184,
     "metadata": {},
     "output_type": "execute_result"
    }
   ],
   "source": [
    "# Interquartile range\n",
    "\n",
    "iqr_income = q3_income - q1_income\n",
    "iqr_income"
   ]
  },
  {
   "cell_type": "code",
   "execution_count": 185,
   "id": "316ba9ef",
   "metadata": {},
   "outputs": [
    {
     "data": {
      "text/plain": [
       "75019"
      ]
     },
     "execution_count": 185,
     "metadata": {},
     "output_type": "execute_result"
    }
   ],
   "source": [
    "# normal range\n",
    "\n",
    "df[\"Income\"].max() - df[\"Income\"].min()"
   ]
  },
  {
   "cell_type": "code",
   "execution_count": 186,
   "id": "1a208a8b",
   "metadata": {},
   "outputs": [],
   "source": [
    "# there is a huge difference between normal range and IQR.\n",
    "# this is due to the presence of outliers."
   ]
  },
  {
   "cell_type": "code",
   "execution_count": 187,
   "id": "dc127154",
   "metadata": {},
   "outputs": [
    {
     "data": {
      "text/plain": [
       "(22144.875, 80581.875)"
      ]
     },
     "execution_count": 187,
     "metadata": {},
     "output_type": "execute_result"
    }
   ],
   "source": [
    "# upper and lower limit of box plot\n",
    "\n",
    "lower_lim_income = q1_income - 1.5 * iqr_income\n",
    "upper_lim_income = q3_income + 1.5 * iqr_income\n",
    "\n",
    "lower_lim_income, upper_lim_income"
   ]
  },
  {
   "cell_type": "code",
   "execution_count": 188,
   "id": "e74573bc",
   "metadata": {},
   "outputs": [],
   "source": [
    "# since lower_lim_income < minimum value, there are no lower limit outliers\n",
    "# Since upper_lim_income < maximum value, there are upper limit outliers"
   ]
  },
  {
   "cell_type": "code",
   "execution_count": 190,
   "id": "d4ae6480",
   "metadata": {},
   "outputs": [
    {
     "data": {
      "text/plain": [
       "array([ 83416,  88396,  90886,  92131,  88396,  85906,  90886, 103336,\n",
       "        99601,  89641,  95866,  92131,  92131, 104581,  83416,  89641,\n",
       "        90886, 104581,  95508])"
      ]
     },
     "execution_count": 190,
     "metadata": {},
     "output_type": "execute_result"
    }
   ],
   "source": [
    "outliers_income = df[df[\"Income\"] > upper_lim_income][\"Income\"].to_numpy()\n",
    "outliers_income"
   ]
  },
  {
   "cell_type": "code",
   "execution_count": 191,
   "id": "4375cdf4",
   "metadata": {},
   "outputs": [
    {
     "data": {
      "text/plain": [
       "19"
      ]
     },
     "execution_count": 191,
     "metadata": {},
     "output_type": "execute_result"
    }
   ],
   "source": [
    "len(outliers_income)"
   ]
  },
  {
   "cell_type": "code",
   "execution_count": 192,
   "id": "bc9f78c1",
   "metadata": {},
   "outputs": [
    {
     "data": {
      "text/plain": [
       "11"
      ]
     },
     "execution_count": 192,
     "metadata": {},
     "output_type": "execute_result"
    }
   ],
   "source": [
    "df[df[\"Income\"] > upper_lim_income][\"Income\"].nunique()"
   ]
  },
  {
   "cell_type": "code",
   "execution_count": 193,
   "id": "ce0fa8f2",
   "metadata": {},
   "outputs": [],
   "source": [
    "# There are total 19 outliers data points. \n",
    "# 11 or those are unique values."
   ]
  },
  {
   "cell_type": "markdown",
   "id": "9ec3ed80",
   "metadata": {},
   "source": [
    "### Miles"
   ]
  },
  {
   "cell_type": "code",
   "execution_count": 194,
   "id": "8c52cbfc",
   "metadata": {},
   "outputs": [
    {
     "name": "stdout",
     "output_type": "stream",
     "text": [
      "<class 'pandas.core.frame.DataFrame'>\n",
      "RangeIndex: 180 entries, 0 to 179\n",
      "Data columns (total 10 columns):\n",
      " #   Column          Non-Null Count  Dtype \n",
      "---  ------          --------------  ----- \n",
      " 0   Product         180 non-null    object\n",
      " 1   Age             180 non-null    int64 \n",
      " 2   Gender          180 non-null    object\n",
      " 3   Education       180 non-null    int64 \n",
      " 4   MaritalStatus   180 non-null    object\n",
      " 5   Usage           180 non-null    int64 \n",
      " 6   Fitness         180 non-null    int64 \n",
      " 7   Income          180 non-null    int64 \n",
      " 8   Miles           180 non-null    int64 \n",
      " 9   treadmill_cost  180 non-null    int64 \n",
      "dtypes: int64(7), object(3)\n",
      "memory usage: 14.2+ KB\n"
     ]
    }
   ],
   "source": [
    "df.info()"
   ]
  },
  {
   "cell_type": "code",
   "execution_count": 199,
   "id": "737b9b40",
   "metadata": {},
   "outputs": [
    {
     "data": {
      "image/png": "[encoded data removed]",
      "text/plain": [
       "<Figure size 640x480 with 1 Axes>"
      ]
     },
     "metadata": {},
     "output_type": "display_data"
    }
   ],
   "source": [
    "sns.boxplot(data=df, x=\"Miles\")\n",
    "plt.show()"
   ]
  },
  {
   "cell_type": "code",
   "execution_count": 200,
   "id": "28452e8b",
   "metadata": {
    "scrolled": true
   },
   "outputs": [
    {
     "data": {
      "text/plain": [
       "count    180.000000\n",
       "mean     103.194444\n",
       "std       51.863605\n",
       "min       21.000000\n",
       "25%       66.000000\n",
       "50%       94.000000\n",
       "75%      114.750000\n",
       "max      360.000000\n",
       "Name: Miles, dtype: float64"
      ]
     },
     "execution_count": 200,
     "metadata": {},
     "output_type": "execute_result"
    }
   ],
   "source": [
    "df[\"Miles\"].describe()"
   ]
  },
  {
   "cell_type": "code",
   "execution_count": 201,
   "id": "f994808c",
   "metadata": {},
   "outputs": [
    {
     "data": {
      "text/plain": [
       "(66.0, 114.75)"
      ]
     },
     "execution_count": 201,
     "metadata": {},
     "output_type": "execute_result"
    }
   ],
   "source": [
    "q1_miles = np.percentile(df[\"Miles\"], 25)\n",
    "q3_miles = np.percentile(df[\"Miles\"], 75)\n",
    "\n",
    "q1_miles, q3_miles"
   ]
  },
  {
   "cell_type": "code",
   "execution_count": 202,
   "id": "762cf55a",
   "metadata": {},
   "outputs": [
    {
     "data": {
      "text/plain": [
       "48.75"
      ]
     },
     "execution_count": 202,
     "metadata": {},
     "output_type": "execute_result"
    }
   ],
   "source": [
    "# Interquartile range\n",
    "\n",
    "iqr_miles = q3_miles - q1_miles\n",
    "iqr_miles"
   ]
  },
  {
   "cell_type": "code",
   "execution_count": 203,
   "id": "8f610b28",
   "metadata": {},
   "outputs": [
    {
     "data": {
      "text/plain": [
       "339"
      ]
     },
     "execution_count": 203,
     "metadata": {},
     "output_type": "execute_result"
    }
   ],
   "source": [
    "# normal range\n",
    "\n",
    "df[\"Miles\"].max() - df[\"Miles\"].min()"
   ]
  },
  {
   "cell_type": "code",
   "execution_count": 205,
   "id": "b2b995d6",
   "metadata": {},
   "outputs": [],
   "source": [
    "# There's huge difference b/w normal range and IQR.\n",
    "# This is due the presence of outliers.\n",
    "\n",
    "# Let's find them"
   ]
  },
  {
   "cell_type": "code",
   "execution_count": 206,
   "id": "3e687735",
   "metadata": {},
   "outputs": [
    {
     "data": {
      "text/plain": [
       "(-7.125, 187.875)"
      ]
     },
     "execution_count": 206,
     "metadata": {},
     "output_type": "execute_result"
    }
   ],
   "source": [
    "# lower and upper limit of box plot\n",
    "\n",
    "lower_lim_miles = q1_miles - 1.5 * iqr_miles\n",
    "upper_lim_miles = q3_miles + 1.5 * iqr_miles\n",
    "\n",
    "lower_lim_miles, upper_lim_miles"
   ]
  },
  {
   "cell_type": "code",
   "execution_count": 207,
   "id": "7218b6b2",
   "metadata": {},
   "outputs": [],
   "source": [
    "# Even though the miles column has only +ve values, we still ended up with lower limit being negative\n",
    "\n",
    "# This could also suggest that the data distribution is right-skewed, \n",
    "# meaning there could be some extreme values on the higher end, but not on the lower end.\n",
    "\n",
    "# This can be inferred from the boxplot graph as well.\n",
    "# There are quite a few unique outliers on the higher limit side."
   ]
  },
  {
   "cell_type": "code",
   "execution_count": 209,
   "id": "2d3fd124",
   "metadata": {},
   "outputs": [
    {
     "data": {
      "text/plain": [
       "array([188, 212, 200, 200, 200, 240, 300, 280, 260, 200, 360, 200, 200])"
      ]
     },
     "execution_count": 209,
     "metadata": {},
     "output_type": "execute_result"
    }
   ],
   "source": [
    "outliers_miles = df[df[\"Miles\"] > upper_lim_miles][\"Miles\"].to_numpy()\n",
    "outliers_miles"
   ]
  },
  {
   "cell_type": "code",
   "execution_count": 210,
   "id": "9608aa56",
   "metadata": {},
   "outputs": [
    {
     "data": {
      "text/plain": [
       "13"
      ]
     },
     "execution_count": 210,
     "metadata": {},
     "output_type": "execute_result"
    }
   ],
   "source": [
    "len(outliers_miles)"
   ]
  },
  {
   "cell_type": "code",
   "execution_count": 219,
   "id": "9c684c76",
   "metadata": {},
   "outputs": [
    {
     "data": {
      "text/plain": [
       "8"
      ]
     },
     "execution_count": 219,
     "metadata": {},
     "output_type": "execute_result"
    }
   ],
   "source": [
    "len(set(outliers_miles))"
   ]
  },
  {
   "cell_type": "code",
   "execution_count": 220,
   "id": "bbb1f90f",
   "metadata": {},
   "outputs": [],
   "source": [
    "# There are 13 outliers datapoints for Miles column\n",
    "# 8 of them are unique values."
   ]
  },
  {
   "cell_type": "markdown",
   "id": "922c0ee5",
   "metadata": {},
   "source": [
    "## Relation b/w age and product purchased"
   ]
  },
  {
   "cell_type": "code",
   "execution_count": 221,
   "id": "54b802d1",
   "metadata": {},
   "outputs": [
    {
     "data": {
      "text/html": [
       "<div>\n",
       "<style scoped>\n",
       "    .dataframe tbody tr th:only-of-type {\n",
       "        vertical-align: middle;\n",
       "    }\n",
       "\n",
       "    .dataframe tbody tr th {\n",
       "        vertical-align: top;\n",
       "    }\n",
       "\n",
       "    .dataframe thead th {\n",
       "        text-align: right;\n",
       "    }\n",
       "</style>\n",
       "<table border=\"1\" class=\"dataframe\">\n",
       "  <thead>\n",
       "    <tr style=\"text-align: right;\">\n",
       "      <th></th>\n",
       "      <th>Product</th>\n",
       "      <th>Age</th>\n",
       "      <th>Gender</th>\n",
       "      <th>Education</th>\n",
       "      <th>MaritalStatus</th>\n",
       "      <th>Usage</th>\n",
       "      <th>Fitness</th>\n",
       "      <th>Income</th>\n",
       "      <th>Miles</th>\n",
       "      <th>treadmill_cost</th>\n",
       "    </tr>\n",
       "  </thead>\n",
       "  <tbody>\n",
       "    <tr>\n",
       "      <th>0</th>\n",
       "      <td>KP281</td>\n",
       "      <td>18</td>\n",
       "      <td>Male</td>\n",
       "      <td>14</td>\n",
       "      <td>Single</td>\n",
       "      <td>3</td>\n",
       "      <td>4</td>\n",
       "      <td>29562</td>\n",
       "      <td>112</td>\n",
       "      <td>1500</td>\n",
       "    </tr>\n",
       "    <tr>\n",
       "      <th>1</th>\n",
       "      <td>KP281</td>\n",
       "      <td>19</td>\n",
       "      <td>Male</td>\n",
       "      <td>15</td>\n",
       "      <td>Single</td>\n",
       "      <td>2</td>\n",
       "      <td>3</td>\n",
       "      <td>31836</td>\n",
       "      <td>75</td>\n",
       "      <td>1500</td>\n",
       "    </tr>\n",
       "    <tr>\n",
       "      <th>2</th>\n",
       "      <td>KP281</td>\n",
       "      <td>19</td>\n",
       "      <td>Female</td>\n",
       "      <td>14</td>\n",
       "      <td>Partnered</td>\n",
       "      <td>4</td>\n",
       "      <td>3</td>\n",
       "      <td>30699</td>\n",
       "      <td>66</td>\n",
       "      <td>1500</td>\n",
       "    </tr>\n",
       "    <tr>\n",
       "      <th>3</th>\n",
       "      <td>KP281</td>\n",
       "      <td>19</td>\n",
       "      <td>Male</td>\n",
       "      <td>12</td>\n",
       "      <td>Single</td>\n",
       "      <td>3</td>\n",
       "      <td>3</td>\n",
       "      <td>32973</td>\n",
       "      <td>85</td>\n",
       "      <td>1500</td>\n",
       "    </tr>\n",
       "    <tr>\n",
       "      <th>4</th>\n",
       "      <td>KP281</td>\n",
       "      <td>20</td>\n",
       "      <td>Male</td>\n",
       "      <td>13</td>\n",
       "      <td>Partnered</td>\n",
       "      <td>4</td>\n",
       "      <td>2</td>\n",
       "      <td>35247</td>\n",
       "      <td>47</td>\n",
       "      <td>1500</td>\n",
       "    </tr>\n",
       "  </tbody>\n",
       "</table>\n",
       "</div>"
      ],
      "text/plain": [
       "  Product  Age  Gender  Education MaritalStatus  Usage  Fitness  Income  \\\n",
       "0   KP281   18    Male         14        Single      3        4   29562   \n",
       "1   KP281   19    Male         15        Single      2        3   31836   \n",
       "2   KP281   19  Female         14     Partnered      4        3   30699   \n",
       "3   KP281   19    Male         12        Single      3        3   32973   \n",
       "4   KP281   20    Male         13     Partnered      4        2   35247   \n",
       "\n",
       "   Miles  treadmill_cost  \n",
       "0    112            1500  \n",
       "1     75            1500  \n",
       "2     66            1500  \n",
       "3     85            1500  \n",
       "4     47            1500  "
      ]
     },
     "execution_count": 221,
     "metadata": {},
     "output_type": "execute_result"
    }
   ],
   "source": [
    "df.head()"
   ]
  },
  {
   "cell_type": "code",
   "execution_count": 231,
   "id": "c15a4cf6",
   "metadata": {},
   "outputs": [
    {
     "data": {
      "image/png": "[encoded data removed]",
      "text/plain": [
       "<Figure size 640x480 with 1 Axes>"
      ]
     },
     "metadata": {},
     "output_type": "display_data"
    }
   ],
   "source": [
    "sns.swarmplot(x=\"Product\", y=\"Age\", data=df)\n",
    "\n",
    "plt.title(\"Product vs Age distribution\", fontsize=18)\n",
    "plt.xlabel(\"Product\", fontsize=15)\n",
    "plt.ylabel(\"Age\", fontsize=15)\n",
    "\n",
    "plt.show()"
   ]
  },
  {
   "cell_type": "code",
   "execution_count": 232,
   "id": "4df0bdbf",
   "metadata": {},
   "outputs": [],
   "source": [
    "# From the swarmplot it can be inferred that:\n",
    "#     The younger age group prefers treadmill over any other age group.\n",
    "#         This can also be inferred via mode function\n",
    "#     Overall, age has almost no relation to the type of product the customer will buy."
   ]
  },
  {
   "cell_type": "code",
   "execution_count": 241,
   "id": "6e26c8f3",
   "metadata": {},
   "outputs": [
    {
     "data": {
      "text/plain": [
       "Product\n",
       "KP281    23\n",
       "KP481    25\n",
       "KP781    25\n",
       "Name: Age, dtype: int64"
      ]
     },
     "execution_count": 241,
     "metadata": {},
     "output_type": "execute_result"
    }
   ],
   "source": [
    "df.groupby(\"Product\")[\"Age\"].apply(lambda x: x.mode()[0])"
   ]
  },
  {
   "cell_type": "code",
   "execution_count": 242,
   "id": "b57f234b",
   "metadata": {},
   "outputs": [],
   "source": [
    "# From the above group by output:\n",
    "#     Most of the customers are in the age group of mid 20s for each Product type purchase"
   ]
  },
  {
   "cell_type": "markdown",
   "id": "d612d6dd",
   "metadata": {},
   "source": [
    "# Probability analysis"
   ]
  },
  {
   "cell_type": "markdown",
   "id": "896ad9d9",
   "metadata": {},
   "source": [
    "### Gender"
   ]
  },
  {
   "cell_type": "code",
   "execution_count": 243,
   "id": "e3e20be5",
   "metadata": {},
   "outputs": [
    {
     "data": {
      "text/html": [
       "<div>\n",
       "<style scoped>\n",
       "    .dataframe tbody tr th:only-of-type {\n",
       "        vertical-align: middle;\n",
       "    }\n",
       "\n",
       "    .dataframe tbody tr th {\n",
       "        vertical-align: top;\n",
       "    }\n",
       "\n",
       "    .dataframe thead th {\n",
       "        text-align: right;\n",
       "    }\n",
       "</style>\n",
       "<table border=\"1\" class=\"dataframe\">\n",
       "  <thead>\n",
       "    <tr style=\"text-align: right;\">\n",
       "      <th></th>\n",
       "      <th>Product</th>\n",
       "      <th>Age</th>\n",
       "      <th>Gender</th>\n",
       "      <th>Education</th>\n",
       "      <th>MaritalStatus</th>\n",
       "      <th>Usage</th>\n",
       "      <th>Fitness</th>\n",
       "      <th>Income</th>\n",
       "      <th>Miles</th>\n",
       "      <th>treadmill_cost</th>\n",
       "    </tr>\n",
       "  </thead>\n",
       "  <tbody>\n",
       "    <tr>\n",
       "      <th>0</th>\n",
       "      <td>KP281</td>\n",
       "      <td>18</td>\n",
       "      <td>Male</td>\n",
       "      <td>14</td>\n",
       "      <td>Single</td>\n",
       "      <td>3</td>\n",
       "      <td>4</td>\n",
       "      <td>29562</td>\n",
       "      <td>112</td>\n",
       "      <td>1500</td>\n",
       "    </tr>\n",
       "    <tr>\n",
       "      <th>1</th>\n",
       "      <td>KP281</td>\n",
       "      <td>19</td>\n",
       "      <td>Male</td>\n",
       "      <td>15</td>\n",
       "      <td>Single</td>\n",
       "      <td>2</td>\n",
       "      <td>3</td>\n",
       "      <td>31836</td>\n",
       "      <td>75</td>\n",
       "      <td>1500</td>\n",
       "    </tr>\n",
       "    <tr>\n",
       "      <th>2</th>\n",
       "      <td>KP281</td>\n",
       "      <td>19</td>\n",
       "      <td>Female</td>\n",
       "      <td>14</td>\n",
       "      <td>Partnered</td>\n",
       "      <td>4</td>\n",
       "      <td>3</td>\n",
       "      <td>30699</td>\n",
       "      <td>66</td>\n",
       "      <td>1500</td>\n",
       "    </tr>\n",
       "    <tr>\n",
       "      <th>3</th>\n",
       "      <td>KP281</td>\n",
       "      <td>19</td>\n",
       "      <td>Male</td>\n",
       "      <td>12</td>\n",
       "      <td>Single</td>\n",
       "      <td>3</td>\n",
       "      <td>3</td>\n",
       "      <td>32973</td>\n",
       "      <td>85</td>\n",
       "      <td>1500</td>\n",
       "    </tr>\n",
       "    <tr>\n",
       "      <th>4</th>\n",
       "      <td>KP281</td>\n",
       "      <td>20</td>\n",
       "      <td>Male</td>\n",
       "      <td>13</td>\n",
       "      <td>Partnered</td>\n",
       "      <td>4</td>\n",
       "      <td>2</td>\n",
       "      <td>35247</td>\n",
       "      <td>47</td>\n",
       "      <td>1500</td>\n",
       "    </tr>\n",
       "  </tbody>\n",
       "</table>\n",
       "</div>"
      ],
      "text/plain": [
       "  Product  Age  Gender  Education MaritalStatus  Usage  Fitness  Income  \\\n",
       "0   KP281   18    Male         14        Single      3        4   29562   \n",
       "1   KP281   19    Male         15        Single      2        3   31836   \n",
       "2   KP281   19  Female         14     Partnered      4        3   30699   \n",
       "3   KP281   19    Male         12        Single      3        3   32973   \n",
       "4   KP281   20    Male         13     Partnered      4        2   35247   \n",
       "\n",
       "   Miles  treadmill_cost  \n",
       "0    112            1500  \n",
       "1     75            1500  \n",
       "2     66            1500  \n",
       "3     85            1500  \n",
       "4     47            1500  "
      ]
     },
     "execution_count": 243,
     "metadata": {},
     "output_type": "execute_result"
    }
   ],
   "source": [
    "df.head()"
   ]
  },
  {
   "cell_type": "code",
   "execution_count": 250,
   "id": "0524ad6c",
   "metadata": {},
   "outputs": [],
   "source": [
    "df_gender_product_prob = pd.crosstab(index=df[\"Product\"], columns=df[\"Gender\"], \n",
    "                                     margins=True, margins_name=\"Total\")/len(df)"
   ]
  },
  {
   "cell_type": "code",
   "execution_count": 251,
   "id": "fb5e70b2",
   "metadata": {},
   "outputs": [
    {
     "data": {
      "text/html": [
       "<div>\n",
       "<style scoped>\n",
       "    .dataframe tbody tr th:only-of-type {\n",
       "        vertical-align: middle;\n",
       "    }\n",
       "\n",
       "    .dataframe tbody tr th {\n",
       "        vertical-align: top;\n",
       "    }\n",
       "\n",
       "    .dataframe thead th {\n",
       "        text-align: right;\n",
       "    }\n",
       "</style>\n",
       "<table border=\"1\" class=\"dataframe\">\n",
       "  <thead>\n",
       "    <tr style=\"text-align: right;\">\n",
       "      <th>Gender</th>\n",
       "      <th>Female</th>\n",
       "      <th>Male</th>\n",
       "      <th>Total</th>\n",
       "    </tr>\n",
       "    <tr>\n",
       "      <th>Product</th>\n",
       "      <th></th>\n",
       "      <th></th>\n",
       "      <th></th>\n",
       "    </tr>\n",
       "  </thead>\n",
       "  <tbody>\n",
       "    <tr>\n",
       "      <th>KP281</th>\n",
       "      <td>0.222222</td>\n",
       "      <td>0.222222</td>\n",
       "      <td>0.444444</td>\n",
       "    </tr>\n",
       "    <tr>\n",
       "      <th>KP481</th>\n",
       "      <td>0.161111</td>\n",
       "      <td>0.172222</td>\n",
       "      <td>0.333333</td>\n",
       "    </tr>\n",
       "    <tr>\n",
       "      <th>KP781</th>\n",
       "      <td>0.038889</td>\n",
       "      <td>0.183333</td>\n",
       "      <td>0.222222</td>\n",
       "    </tr>\n",
       "    <tr>\n",
       "      <th>Total</th>\n",
       "      <td>0.422222</td>\n",
       "      <td>0.577778</td>\n",
       "      <td>1.000000</td>\n",
       "    </tr>\n",
       "  </tbody>\n",
       "</table>\n",
       "</div>"
      ],
      "text/plain": [
       "Gender     Female      Male     Total\n",
       "Product                              \n",
       "KP281    0.222222  0.222222  0.444444\n",
       "KP481    0.161111  0.172222  0.333333\n",
       "KP781    0.038889  0.183333  0.222222\n",
       "Total    0.422222  0.577778  1.000000"
      ]
     },
     "execution_count": 251,
     "metadata": {},
     "output_type": "execute_result"
    }
   ],
   "source": [
    "df_gender_product_prob"
   ]
  },
  {
   "cell_type": "code",
   "execution_count": 253,
   "id": "5b716623",
   "metadata": {},
   "outputs": [],
   "source": [
    "df_gender_product_prob.columns.name = None"
   ]
  },
  {
   "cell_type": "code",
   "execution_count": 257,
   "id": "0fbfa023",
   "metadata": {},
   "outputs": [],
   "source": [
    "df_gender_product_prob.reset_index(inplace=True)"
   ]
  },
  {
   "cell_type": "code",
   "execution_count": 259,
   "id": "8d8e75b4",
   "metadata": {
    "scrolled": true
   },
   "outputs": [
    {
     "data": {
      "text/html": [
       "<div>\n",
       "<style scoped>\n",
       "    .dataframe tbody tr th:only-of-type {\n",
       "        vertical-align: middle;\n",
       "    }\n",
       "\n",
       "    .dataframe tbody tr th {\n",
       "        vertical-align: top;\n",
       "    }\n",
       "\n",
       "    .dataframe thead th {\n",
       "        text-align: right;\n",
       "    }\n",
       "</style>\n",
       "<table border=\"1\" class=\"dataframe\">\n",
       "  <thead>\n",
       "    <tr style=\"text-align: right;\">\n",
       "      <th></th>\n",
       "      <th>Product</th>\n",
       "      <th>Female</th>\n",
       "      <th>Male</th>\n",
       "      <th>Total</th>\n",
       "    </tr>\n",
       "  </thead>\n",
       "  <tbody>\n",
       "    <tr>\n",
       "      <th>0</th>\n",
       "      <td>KP281</td>\n",
       "      <td>0.222222</td>\n",
       "      <td>0.222222</td>\n",
       "      <td>0.444444</td>\n",
       "    </tr>\n",
       "    <tr>\n",
       "      <th>1</th>\n",
       "      <td>KP481</td>\n",
       "      <td>0.161111</td>\n",
       "      <td>0.172222</td>\n",
       "      <td>0.333333</td>\n",
       "    </tr>\n",
       "    <tr>\n",
       "      <th>2</th>\n",
       "      <td>KP781</td>\n",
       "      <td>0.038889</td>\n",
       "      <td>0.183333</td>\n",
       "      <td>0.222222</td>\n",
       "    </tr>\n",
       "    <tr>\n",
       "      <th>3</th>\n",
       "      <td>Total</td>\n",
       "      <td>0.422222</td>\n",
       "      <td>0.577778</td>\n",
       "      <td>1.000000</td>\n",
       "    </tr>\n",
       "  </tbody>\n",
       "</table>\n",
       "</div>"
      ],
      "text/plain": [
       "  Product    Female      Male     Total\n",
       "0   KP281  0.222222  0.222222  0.444444\n",
       "1   KP481  0.161111  0.172222  0.333333\n",
       "2   KP781  0.038889  0.183333  0.222222\n",
       "3   Total  0.422222  0.577778  1.000000"
      ]
     },
     "execution_count": 259,
     "metadata": {},
     "output_type": "execute_result"
    }
   ],
   "source": [
    "df_gender_product_prob"
   ]
  },
  {
   "cell_type": "code",
   "execution_count": 273,
   "id": "58aef638",
   "metadata": {},
   "outputs": [
    {
     "data": {
      "image/png": "[encoded data removed]",
      "text/plain": [
       "<Figure size 640x480 with 1 Axes>"
      ]
     },
     "metadata": {},
     "output_type": "display_data"
    }
   ],
   "source": [
    "# visualising the above crosstab\n",
    "\n",
    "ax = sns.barplot(data= df_gender_product_prob.loc[:2], x=\"Product\", y=\"Total\")\n",
    "\n",
    "plt.title(\"Product type vs Fraction of people\", fontsize=15)\n",
    "plt.xlabel(\"Product type\", fontsize=15)\n",
    "plt.ylabel(\"Fraction of people\", fontsize=15)\n",
    "\n",
    "for i in ax.containers:\n",
    "    ax.bar_label(i)\n",
    "\n",
    "    \n",
    "plt.tight_layout()\n",
    "plt.show()"
   ]
  },
  {
   "cell_type": "code",
   "execution_count": 274,
   "id": "db3fc33f",
   "metadata": {},
   "outputs": [],
   "source": [
    "# Above plot shows the fraction of people buying each type of treadmill, irrespective of gender.\n",
    "# The cheapest treadmill, i.e., KP281 is the most bought treadmill\n",
    "\n",
    "# The crosstab `df_gender_product_prob` alos helps us understand the distribution gender wise as well."
   ]
  },
  {
   "cell_type": "code",
   "execution_count": 279,
   "id": "db97c158",
   "metadata": {},
   "outputs": [],
   "source": [
    "# visualing for each gender"
   ]
  },
  {
   "cell_type": "code",
   "execution_count": 285,
   "id": "032f152b",
   "metadata": {},
   "outputs": [
    {
     "data": {
      "image/png": "[encoded data removed]",
      "text/plain": [
       "<Figure size 800x600 with 1 Axes>"
      ]
     },
     "metadata": {},
     "output_type": "display_data"
    }
   ],
   "source": [
    "# Melt the DataFrame to long format\n",
    "df_melted = pd.melt(df_gender_product_prob.iloc[0:-1, 0:-1], id_vars=\"Product\", \n",
    "                    var_name=\"Gender\", value_name=\"Proportion\")\n",
    "\n",
    "plt.figure(figsize=(8,6))\n",
    "ax = sns.barplot(data=df_melted, x=\"Product\", y=\"Proportion\", hue=\"Gender\")\n",
    "\n",
    "ax.set_title(\"Fraction of Male and Female for each Product\", fontsize=15)\n",
    "ax.set_xlabel(\"Product\", fontsize=15)\n",
    "ax.set_ylabel(\"Fraction\", fontsize=15)\n",
    "\n",
    "for i in ax.containers:\n",
    "    ax.bar_label(i)\n",
    "\n",
    "plt.tight_layout()\n",
    "plt.show()"
   ]
  },
  {
   "cell_type": "code",
   "execution_count": 367,
   "id": "44ea0463",
   "metadata": {},
   "outputs": [
    {
     "data": {
      "image/png": "[encoded data removed]",
      "text/plain": [
       "<Figure size 800x700 with 1 Axes>"
      ]
     },
     "metadata": {},
     "output_type": "display_data"
    }
   ],
   "source": [
    "df_melted = pd.melt(df_gender_product_prob.iloc[0:-1, 0:-1], id_vars=\"Product\", \n",
    "                    var_name=\"Gender\", value_name=\"Proportion\")\n",
    "\n",
    "plt.figure(figsize=(8,7))\n",
    "ax = sns.barplot(data=df_melted, x=\"Gender\", y=\"Proportion\", hue=\"Product\")\n",
    "\n",
    "ax.set_title(\"Fraction of Product for each Gender\", fontsize=15)\n",
    "ax.set_xlabel(\"Gender\", fontsize=15)\n",
    "ax.set_ylabel(\"Fraction\", fontsize=15)\n",
    "\n",
    "for i in ax.containers:\n",
    "    ax.bar_label(i)\n",
    "\n",
    "plt.tight_layout()\n",
    "plt.show()"
   ]
  },
  {
   "cell_type": "code",
   "execution_count": 286,
   "id": "447abaf3",
   "metadata": {},
   "outputs": [],
   "source": [
    "# the above plots gives a clear idea of what fraction of people (in each gender group)\n",
    "# prefers what kind of treadmill"
   ]
  },
  {
   "cell_type": "markdown",
   "id": "587e7c50",
   "metadata": {},
   "source": [
    "### Marital status"
   ]
  },
  {
   "cell_type": "code",
   "execution_count": 275,
   "id": "de5a7101",
   "metadata": {},
   "outputs": [
    {
     "data": {
      "text/html": [
       "<div>\n",
       "<style scoped>\n",
       "    .dataframe tbody tr th:only-of-type {\n",
       "        vertical-align: middle;\n",
       "    }\n",
       "\n",
       "    .dataframe tbody tr th {\n",
       "        vertical-align: top;\n",
       "    }\n",
       "\n",
       "    .dataframe thead th {\n",
       "        text-align: right;\n",
       "    }\n",
       "</style>\n",
       "<table border=\"1\" class=\"dataframe\">\n",
       "  <thead>\n",
       "    <tr style=\"text-align: right;\">\n",
       "      <th></th>\n",
       "      <th>Product</th>\n",
       "      <th>Age</th>\n",
       "      <th>Gender</th>\n",
       "      <th>Education</th>\n",
       "      <th>MaritalStatus</th>\n",
       "      <th>Usage</th>\n",
       "      <th>Fitness</th>\n",
       "      <th>Income</th>\n",
       "      <th>Miles</th>\n",
       "      <th>treadmill_cost</th>\n",
       "    </tr>\n",
       "  </thead>\n",
       "  <tbody>\n",
       "    <tr>\n",
       "      <th>0</th>\n",
       "      <td>KP281</td>\n",
       "      <td>18</td>\n",
       "      <td>Male</td>\n",
       "      <td>14</td>\n",
       "      <td>Single</td>\n",
       "      <td>3</td>\n",
       "      <td>4</td>\n",
       "      <td>29562</td>\n",
       "      <td>112</td>\n",
       "      <td>1500</td>\n",
       "    </tr>\n",
       "    <tr>\n",
       "      <th>1</th>\n",
       "      <td>KP281</td>\n",
       "      <td>19</td>\n",
       "      <td>Male</td>\n",
       "      <td>15</td>\n",
       "      <td>Single</td>\n",
       "      <td>2</td>\n",
       "      <td>3</td>\n",
       "      <td>31836</td>\n",
       "      <td>75</td>\n",
       "      <td>1500</td>\n",
       "    </tr>\n",
       "    <tr>\n",
       "      <th>2</th>\n",
       "      <td>KP281</td>\n",
       "      <td>19</td>\n",
       "      <td>Female</td>\n",
       "      <td>14</td>\n",
       "      <td>Partnered</td>\n",
       "      <td>4</td>\n",
       "      <td>3</td>\n",
       "      <td>30699</td>\n",
       "      <td>66</td>\n",
       "      <td>1500</td>\n",
       "    </tr>\n",
       "    <tr>\n",
       "      <th>3</th>\n",
       "      <td>KP281</td>\n",
       "      <td>19</td>\n",
       "      <td>Male</td>\n",
       "      <td>12</td>\n",
       "      <td>Single</td>\n",
       "      <td>3</td>\n",
       "      <td>3</td>\n",
       "      <td>32973</td>\n",
       "      <td>85</td>\n",
       "      <td>1500</td>\n",
       "    </tr>\n",
       "    <tr>\n",
       "      <th>4</th>\n",
       "      <td>KP281</td>\n",
       "      <td>20</td>\n",
       "      <td>Male</td>\n",
       "      <td>13</td>\n",
       "      <td>Partnered</td>\n",
       "      <td>4</td>\n",
       "      <td>2</td>\n",
       "      <td>35247</td>\n",
       "      <td>47</td>\n",
       "      <td>1500</td>\n",
       "    </tr>\n",
       "  </tbody>\n",
       "</table>\n",
       "</div>"
      ],
      "text/plain": [
       "  Product  Age  Gender  Education MaritalStatus  Usage  Fitness  Income  \\\n",
       "0   KP281   18    Male         14        Single      3        4   29562   \n",
       "1   KP281   19    Male         15        Single      2        3   31836   \n",
       "2   KP281   19  Female         14     Partnered      4        3   30699   \n",
       "3   KP281   19    Male         12        Single      3        3   32973   \n",
       "4   KP281   20    Male         13     Partnered      4        2   35247   \n",
       "\n",
       "   Miles  treadmill_cost  \n",
       "0    112            1500  \n",
       "1     75            1500  \n",
       "2     66            1500  \n",
       "3     85            1500  \n",
       "4     47            1500  "
      ]
     },
     "execution_count": 275,
     "metadata": {},
     "output_type": "execute_result"
    }
   ],
   "source": [
    "df.head()"
   ]
  },
  {
   "cell_type": "code",
   "execution_count": 276,
   "id": "05636a52",
   "metadata": {},
   "outputs": [
    {
     "data": {
      "text/html": [
       "<div>\n",
       "<style scoped>\n",
       "    .dataframe tbody tr th:only-of-type {\n",
       "        vertical-align: middle;\n",
       "    }\n",
       "\n",
       "    .dataframe tbody tr th {\n",
       "        vertical-align: top;\n",
       "    }\n",
       "\n",
       "    .dataframe thead th {\n",
       "        text-align: right;\n",
       "    }\n",
       "</style>\n",
       "<table border=\"1\" class=\"dataframe\">\n",
       "  <thead>\n",
       "    <tr style=\"text-align: right;\">\n",
       "      <th>MaritalStatus</th>\n",
       "      <th>Partnered</th>\n",
       "      <th>Single</th>\n",
       "      <th>Total</th>\n",
       "    </tr>\n",
       "    <tr>\n",
       "      <th>Product</th>\n",
       "      <th></th>\n",
       "      <th></th>\n",
       "      <th></th>\n",
       "    </tr>\n",
       "  </thead>\n",
       "  <tbody>\n",
       "    <tr>\n",
       "      <th>KP281</th>\n",
       "      <td>0.266667</td>\n",
       "      <td>0.177778</td>\n",
       "      <td>0.444444</td>\n",
       "    </tr>\n",
       "    <tr>\n",
       "      <th>KP481</th>\n",
       "      <td>0.200000</td>\n",
       "      <td>0.133333</td>\n",
       "      <td>0.333333</td>\n",
       "    </tr>\n",
       "    <tr>\n",
       "      <th>KP781</th>\n",
       "      <td>0.127778</td>\n",
       "      <td>0.094444</td>\n",
       "      <td>0.222222</td>\n",
       "    </tr>\n",
       "    <tr>\n",
       "      <th>Total</th>\n",
       "      <td>0.594444</td>\n",
       "      <td>0.405556</td>\n",
       "      <td>1.000000</td>\n",
       "    </tr>\n",
       "  </tbody>\n",
       "</table>\n",
       "</div>"
      ],
      "text/plain": [
       "MaritalStatus  Partnered    Single     Total\n",
       "Product                                     \n",
       "KP281           0.266667  0.177778  0.444444\n",
       "KP481           0.200000  0.133333  0.333333\n",
       "KP781           0.127778  0.094444  0.222222\n",
       "Total           0.594444  0.405556  1.000000"
      ]
     },
     "execution_count": 276,
     "metadata": {},
     "output_type": "execute_result"
    }
   ],
   "source": [
    "df_maritalstatus_prodcuct_prob = pd.crosstab(index=df[\"Product\"], \n",
    "                                             columns=df[\"MaritalStatus\"], \n",
    "                                             margins=True, margins_name=\"Total\")/len(df)\n",
    "df_maritalstatus_prodcuct_prob"
   ]
  },
  {
   "cell_type": "code",
   "execution_count": 277,
   "id": "93ed75ac",
   "metadata": {},
   "outputs": [],
   "source": [
    "df_maritalstatus_prodcuct_prob.columns.name = None\n",
    "df_maritalstatus_prodcuct_prob.reset_index(inplace=True)"
   ]
  },
  {
   "cell_type": "code",
   "execution_count": 278,
   "id": "cd7c2fea",
   "metadata": {},
   "outputs": [
    {
     "data": {
      "text/html": [
       "<div>\n",
       "<style scoped>\n",
       "    .dataframe tbody tr th:only-of-type {\n",
       "        vertical-align: middle;\n",
       "    }\n",
       "\n",
       "    .dataframe tbody tr th {\n",
       "        vertical-align: top;\n",
       "    }\n",
       "\n",
       "    .dataframe thead th {\n",
       "        text-align: right;\n",
       "    }\n",
       "</style>\n",
       "<table border=\"1\" class=\"dataframe\">\n",
       "  <thead>\n",
       "    <tr style=\"text-align: right;\">\n",
       "      <th></th>\n",
       "      <th>Product</th>\n",
       "      <th>Partnered</th>\n",
       "      <th>Single</th>\n",
       "      <th>Total</th>\n",
       "    </tr>\n",
       "  </thead>\n",
       "  <tbody>\n",
       "    <tr>\n",
       "      <th>0</th>\n",
       "      <td>KP281</td>\n",
       "      <td>0.266667</td>\n",
       "      <td>0.177778</td>\n",
       "      <td>0.444444</td>\n",
       "    </tr>\n",
       "    <tr>\n",
       "      <th>1</th>\n",
       "      <td>KP481</td>\n",
       "      <td>0.200000</td>\n",
       "      <td>0.133333</td>\n",
       "      <td>0.333333</td>\n",
       "    </tr>\n",
       "    <tr>\n",
       "      <th>2</th>\n",
       "      <td>KP781</td>\n",
       "      <td>0.127778</td>\n",
       "      <td>0.094444</td>\n",
       "      <td>0.222222</td>\n",
       "    </tr>\n",
       "    <tr>\n",
       "      <th>3</th>\n",
       "      <td>Total</td>\n",
       "      <td>0.594444</td>\n",
       "      <td>0.405556</td>\n",
       "      <td>1.000000</td>\n",
       "    </tr>\n",
       "  </tbody>\n",
       "</table>\n",
       "</div>"
      ],
      "text/plain": [
       "  Product  Partnered    Single     Total\n",
       "0   KP281   0.266667  0.177778  0.444444\n",
       "1   KP481   0.200000  0.133333  0.333333\n",
       "2   KP781   0.127778  0.094444  0.222222\n",
       "3   Total   0.594444  0.405556  1.000000"
      ]
     },
     "execution_count": 278,
     "metadata": {},
     "output_type": "execute_result"
    }
   ],
   "source": [
    "df_maritalstatus_prodcuct_prob"
   ]
  },
  {
   "cell_type": "code",
   "execution_count": 293,
   "id": "22c53949",
   "metadata": {
    "scrolled": false
   },
   "outputs": [
    {
     "data": {
      "image/png": "[encoded data removed]",
      "text/plain": [
       "<Figure size 800x600 with 1 Axes>"
      ]
     },
     "metadata": {},
     "output_type": "display_data"
    }
   ],
   "source": [
    "df_melted = pd.melt(df_maritalstatus_prodcuct_prob.iloc[0:-1, 0:-1], id_vars=\"Product\", \n",
    "                    var_name=\"MaritalStatus\", value_name=\"Fraction\")\n",
    "\n",
    "plt.figure(figsize=(8,6))\n",
    "ax = sns.barplot(data=df_melted, x=\"Product\", y=\"Fraction\", hue=\"MaritalStatus\", palette=\"husl\")\n",
    "\n",
    "ax.set_title(\"Fraction of Single and Married for each Product\", fontsize=15)\n",
    "ax.set_xlabel(\"Product\", fontsize=15)\n",
    "ax.set_ylabel(\"Fraction\", fontsize=15)\n",
    "\n",
    "for i in ax.containers:\n",
    "    ax.bar_label(i)\n",
    "\n",
    "plt.tight_layout()\n",
    "plt.show()"
   ]
  },
  {
   "cell_type": "code",
   "execution_count": 356,
   "id": "ba66f67f",
   "metadata": {},
   "outputs": [
    {
     "data": {
      "image/png": "[encoded data removed]",
      "text/plain": [
       "<Figure size 800x600 with 1 Axes>"
      ]
     },
     "metadata": {},
     "output_type": "display_data"
    }
   ],
   "source": [
    "df_melted = pd.melt(df_maritalstatus_prodcuct_prob.iloc[0:-1, 0:-1], id_vars=\"Product\", \n",
    "                    var_name=\"MaritalStatus\", value_name=\"Fraction\")\n",
    "\n",
    "plt.figure(figsize=(8,6))\n",
    "ax = sns.barplot(data=df_melted, x=\"MaritalStatus\", y=\"Fraction\", hue=\"Product\", palette=\"husl\")\n",
    "\n",
    "ax.set_title(\"Probability of Product for each Marital Status type\", fontsize=15)\n",
    "ax.set_xlabel(\"Marital Status\", fontsize=15)\n",
    "ax.set_ylabel(\"Fraction\", fontsize=15)\n",
    "\n",
    "for i in ax.containers:\n",
    "    ax.bar_label(i)\n",
    "\n",
    "plt.tight_layout()\n",
    "plt.show()"
   ]
  },
  {
   "cell_type": "code",
   "execution_count": 347,
   "id": "18c81688",
   "metadata": {},
   "outputs": [],
   "source": [
    "# Married people have higher probability of buying a treadmill over single ones\n",
    "# irrespective of treadmill cost\n",
    "\n",
    "# Also, irrespetive of marital status, KP281 is preferred more over other products"
   ]
  },
  {
   "cell_type": "markdown",
   "id": "3a14c50e",
   "metadata": {},
   "source": [
    "### Fitness"
   ]
  },
  {
   "cell_type": "code",
   "execution_count": 294,
   "id": "22424752",
   "metadata": {},
   "outputs": [
    {
     "data": {
      "text/html": [
       "<div>\n",
       "<style scoped>\n",
       "    .dataframe tbody tr th:only-of-type {\n",
       "        vertical-align: middle;\n",
       "    }\n",
       "\n",
       "    .dataframe tbody tr th {\n",
       "        vertical-align: top;\n",
       "    }\n",
       "\n",
       "    .dataframe thead th {\n",
       "        text-align: right;\n",
       "    }\n",
       "</style>\n",
       "<table border=\"1\" class=\"dataframe\">\n",
       "  <thead>\n",
       "    <tr style=\"text-align: right;\">\n",
       "      <th></th>\n",
       "      <th>Product</th>\n",
       "      <th>Age</th>\n",
       "      <th>Gender</th>\n",
       "      <th>Education</th>\n",
       "      <th>MaritalStatus</th>\n",
       "      <th>Usage</th>\n",
       "      <th>Fitness</th>\n",
       "      <th>Income</th>\n",
       "      <th>Miles</th>\n",
       "      <th>treadmill_cost</th>\n",
       "    </tr>\n",
       "  </thead>\n",
       "  <tbody>\n",
       "    <tr>\n",
       "      <th>0</th>\n",
       "      <td>KP281</td>\n",
       "      <td>18</td>\n",
       "      <td>Male</td>\n",
       "      <td>14</td>\n",
       "      <td>Single</td>\n",
       "      <td>3</td>\n",
       "      <td>4</td>\n",
       "      <td>29562</td>\n",
       "      <td>112</td>\n",
       "      <td>1500</td>\n",
       "    </tr>\n",
       "    <tr>\n",
       "      <th>1</th>\n",
       "      <td>KP281</td>\n",
       "      <td>19</td>\n",
       "      <td>Male</td>\n",
       "      <td>15</td>\n",
       "      <td>Single</td>\n",
       "      <td>2</td>\n",
       "      <td>3</td>\n",
       "      <td>31836</td>\n",
       "      <td>75</td>\n",
       "      <td>1500</td>\n",
       "    </tr>\n",
       "    <tr>\n",
       "      <th>2</th>\n",
       "      <td>KP281</td>\n",
       "      <td>19</td>\n",
       "      <td>Female</td>\n",
       "      <td>14</td>\n",
       "      <td>Partnered</td>\n",
       "      <td>4</td>\n",
       "      <td>3</td>\n",
       "      <td>30699</td>\n",
       "      <td>66</td>\n",
       "      <td>1500</td>\n",
       "    </tr>\n",
       "    <tr>\n",
       "      <th>3</th>\n",
       "      <td>KP281</td>\n",
       "      <td>19</td>\n",
       "      <td>Male</td>\n",
       "      <td>12</td>\n",
       "      <td>Single</td>\n",
       "      <td>3</td>\n",
       "      <td>3</td>\n",
       "      <td>32973</td>\n",
       "      <td>85</td>\n",
       "      <td>1500</td>\n",
       "    </tr>\n",
       "    <tr>\n",
       "      <th>4</th>\n",
       "      <td>KP281</td>\n",
       "      <td>20</td>\n",
       "      <td>Male</td>\n",
       "      <td>13</td>\n",
       "      <td>Partnered</td>\n",
       "      <td>4</td>\n",
       "      <td>2</td>\n",
       "      <td>35247</td>\n",
       "      <td>47</td>\n",
       "      <td>1500</td>\n",
       "    </tr>\n",
       "  </tbody>\n",
       "</table>\n",
       "</div>"
      ],
      "text/plain": [
       "  Product  Age  Gender  Education MaritalStatus  Usage  Fitness  Income  \\\n",
       "0   KP281   18    Male         14        Single      3        4   29562   \n",
       "1   KP281   19    Male         15        Single      2        3   31836   \n",
       "2   KP281   19  Female         14     Partnered      4        3   30699   \n",
       "3   KP281   19    Male         12        Single      3        3   32973   \n",
       "4   KP281   20    Male         13     Partnered      4        2   35247   \n",
       "\n",
       "   Miles  treadmill_cost  \n",
       "0    112            1500  \n",
       "1     75            1500  \n",
       "2     66            1500  \n",
       "3     85            1500  \n",
       "4     47            1500  "
      ]
     },
     "execution_count": 294,
     "metadata": {},
     "output_type": "execute_result"
    }
   ],
   "source": [
    "df.head()"
   ]
  },
  {
   "cell_type": "code",
   "execution_count": 296,
   "id": "8a17e522",
   "metadata": {},
   "outputs": [],
   "source": [
    "df_fitness_product_prob = pd.crosstab(index=df[\"Product\"], columns=df[\"Fitness\"], \n",
    "                                      margins=True, margins_name=\"Total\")/len(df)"
   ]
  },
  {
   "cell_type": "code",
   "execution_count": 298,
   "id": "e275ae0b",
   "metadata": {},
   "outputs": [
    {
     "data": {
      "text/html": [
       "<div>\n",
       "<style scoped>\n",
       "    .dataframe tbody tr th:only-of-type {\n",
       "        vertical-align: middle;\n",
       "    }\n",
       "\n",
       "    .dataframe tbody tr th {\n",
       "        vertical-align: top;\n",
       "    }\n",
       "\n",
       "    .dataframe thead th {\n",
       "        text-align: right;\n",
       "    }\n",
       "</style>\n",
       "<table border=\"1\" class=\"dataframe\">\n",
       "  <thead>\n",
       "    <tr style=\"text-align: right;\">\n",
       "      <th>Fitness</th>\n",
       "      <th>1</th>\n",
       "      <th>2</th>\n",
       "      <th>3</th>\n",
       "      <th>4</th>\n",
       "      <th>5</th>\n",
       "      <th>Total</th>\n",
       "    </tr>\n",
       "    <tr>\n",
       "      <th>Product</th>\n",
       "      <th></th>\n",
       "      <th></th>\n",
       "      <th></th>\n",
       "      <th></th>\n",
       "      <th></th>\n",
       "      <th></th>\n",
       "    </tr>\n",
       "  </thead>\n",
       "  <tbody>\n",
       "    <tr>\n",
       "      <th>KP281</th>\n",
       "      <td>0.005556</td>\n",
       "      <td>0.077778</td>\n",
       "      <td>0.300000</td>\n",
       "      <td>0.050000</td>\n",
       "      <td>0.011111</td>\n",
       "      <td>0.444444</td>\n",
       "    </tr>\n",
       "    <tr>\n",
       "      <th>KP481</th>\n",
       "      <td>0.005556</td>\n",
       "      <td>0.066667</td>\n",
       "      <td>0.216667</td>\n",
       "      <td>0.044444</td>\n",
       "      <td>0.000000</td>\n",
       "      <td>0.333333</td>\n",
       "    </tr>\n",
       "    <tr>\n",
       "      <th>KP781</th>\n",
       "      <td>0.000000</td>\n",
       "      <td>0.000000</td>\n",
       "      <td>0.022222</td>\n",
       "      <td>0.038889</td>\n",
       "      <td>0.161111</td>\n",
       "      <td>0.222222</td>\n",
       "    </tr>\n",
       "    <tr>\n",
       "      <th>Total</th>\n",
       "      <td>0.011111</td>\n",
       "      <td>0.144444</td>\n",
       "      <td>0.538889</td>\n",
       "      <td>0.133333</td>\n",
       "      <td>0.172222</td>\n",
       "      <td>1.000000</td>\n",
       "    </tr>\n",
       "  </tbody>\n",
       "</table>\n",
       "</div>"
      ],
      "text/plain": [
       "Fitness         1         2         3         4         5     Total\n",
       "Product                                                            \n",
       "KP281    0.005556  0.077778  0.300000  0.050000  0.011111  0.444444\n",
       "KP481    0.005556  0.066667  0.216667  0.044444  0.000000  0.333333\n",
       "KP781    0.000000  0.000000  0.022222  0.038889  0.161111  0.222222\n",
       "Total    0.011111  0.144444  0.538889  0.133333  0.172222  1.000000"
      ]
     },
     "execution_count": 298,
     "metadata": {},
     "output_type": "execute_result"
    }
   ],
   "source": [
    "df_fitness_product_prob"
   ]
  },
  {
   "cell_type": "code",
   "execution_count": 299,
   "id": "67c147a7",
   "metadata": {},
   "outputs": [
    {
     "data": {
      "text/html": [
       "<div>\n",
       "<style scoped>\n",
       "    .dataframe tbody tr th:only-of-type {\n",
       "        vertical-align: middle;\n",
       "    }\n",
       "\n",
       "    .dataframe tbody tr th {\n",
       "        vertical-align: top;\n",
       "    }\n",
       "\n",
       "    .dataframe thead th {\n",
       "        text-align: right;\n",
       "    }\n",
       "</style>\n",
       "<table border=\"1\" class=\"dataframe\">\n",
       "  <thead>\n",
       "    <tr style=\"text-align: right;\">\n",
       "      <th></th>\n",
       "      <th>Product</th>\n",
       "      <th>1</th>\n",
       "      <th>2</th>\n",
       "      <th>3</th>\n",
       "      <th>4</th>\n",
       "      <th>5</th>\n",
       "      <th>Total</th>\n",
       "    </tr>\n",
       "  </thead>\n",
       "  <tbody>\n",
       "    <tr>\n",
       "      <th>0</th>\n",
       "      <td>KP281</td>\n",
       "      <td>0.005556</td>\n",
       "      <td>0.077778</td>\n",
       "      <td>0.300000</td>\n",
       "      <td>0.050000</td>\n",
       "      <td>0.011111</td>\n",
       "      <td>0.444444</td>\n",
       "    </tr>\n",
       "    <tr>\n",
       "      <th>1</th>\n",
       "      <td>KP481</td>\n",
       "      <td>0.005556</td>\n",
       "      <td>0.066667</td>\n",
       "      <td>0.216667</td>\n",
       "      <td>0.044444</td>\n",
       "      <td>0.000000</td>\n",
       "      <td>0.333333</td>\n",
       "    </tr>\n",
       "    <tr>\n",
       "      <th>2</th>\n",
       "      <td>KP781</td>\n",
       "      <td>0.000000</td>\n",
       "      <td>0.000000</td>\n",
       "      <td>0.022222</td>\n",
       "      <td>0.038889</td>\n",
       "      <td>0.161111</td>\n",
       "      <td>0.222222</td>\n",
       "    </tr>\n",
       "    <tr>\n",
       "      <th>3</th>\n",
       "      <td>Total</td>\n",
       "      <td>0.011111</td>\n",
       "      <td>0.144444</td>\n",
       "      <td>0.538889</td>\n",
       "      <td>0.133333</td>\n",
       "      <td>0.172222</td>\n",
       "      <td>1.000000</td>\n",
       "    </tr>\n",
       "  </tbody>\n",
       "</table>\n",
       "</div>"
      ],
      "text/plain": [
       "  Product         1         2         3         4         5     Total\n",
       "0   KP281  0.005556  0.077778  0.300000  0.050000  0.011111  0.444444\n",
       "1   KP481  0.005556  0.066667  0.216667  0.044444  0.000000  0.333333\n",
       "2   KP781  0.000000  0.000000  0.022222  0.038889  0.161111  0.222222\n",
       "3   Total  0.011111  0.144444  0.538889  0.133333  0.172222  1.000000"
      ]
     },
     "execution_count": 299,
     "metadata": {},
     "output_type": "execute_result"
    }
   ],
   "source": [
    "df_fitness_product_prob.columns.name= None\n",
    "df_fitness_product_prob.reset_index(inplace=True)\n",
    "\n",
    "df_fitness_product_prob"
   ]
  },
  {
   "cell_type": "code",
   "execution_count": 301,
   "id": "1125a8fe",
   "metadata": {},
   "outputs": [],
   "source": [
    "# This analysis has already been done earlier.\n",
    "# That was considering the total count. This time we are analysing based on fractions and probability"
   ]
  },
  {
   "cell_type": "code",
   "execution_count": 354,
   "id": "725bcc47",
   "metadata": {},
   "outputs": [
    {
     "data": {
      "image/png": "[encoded data removed]",
      "text/plain": [
       "<Figure size 800x600 with 1 Axes>"
      ]
     },
     "metadata": {},
     "output_type": "display_data"
    }
   ],
   "source": [
    "df_melted = pd.melt(df_fitness_product_prob.iloc[0:-1, 0:-1], id_vars=\"Product\", \n",
    "                    var_name=\"Fitness\", value_name=\"Fraction\")\n",
    "\n",
    "plt.figure(figsize=(8,6))\n",
    "ax = sns.barplot(data=df_melted, x=\"Fitness\", y=\"Fraction\", hue=\"Product\", palette=\"Set2\")\n",
    "\n",
    "ax.set_title(\"Fitness level vs Fraction of people for each Product\", fontsize=15)\n",
    "ax.set_xlabel(\"Fitness level\", fontsize=15)\n",
    "ax.set_ylabel(\"Fraction\", fontsize=15)\n",
    "\n",
    "for i in ax.containers:\n",
    "    ax.bar_label(i, fmt=\"%.2f\")\n",
    "\n",
    "plt.tight_layout()\n",
    "plt.show()"
   ]
  },
  {
   "cell_type": "code",
   "execution_count": 355,
   "id": "628fad62",
   "metadata": {},
   "outputs": [
    {
     "data": {
      "image/png": "[encoded data removed]",
      "text/plain": [
       "<Figure size 800x600 with 1 Axes>"
      ]
     },
     "metadata": {},
     "output_type": "display_data"
    }
   ],
   "source": [
    "df_melted = pd.melt(df_fitness_product_prob.iloc[0:-1, 0:-1], id_vars=\"Product\", \n",
    "                    var_name=\"Fitness\", value_name=\"Fraction\")\n",
    "\n",
    "plt.figure(figsize=(8,6))\n",
    "ax = sns.barplot(data=df_melted, x=\"Product\", y=\"Fraction\", hue=\"Fitness\", palette=\"Set2\")\n",
    "\n",
    "ax.set_title(\"Product vs Fraction of people for each Fitness level\", fontsize=15)\n",
    "ax.set_xlabel(\"Product\", fontsize=15)\n",
    "ax.set_ylabel(\"Fraction\", fontsize=15)\n",
    "\n",
    "for i in ax.containers:\n",
    "    ax.bar_label(i, fmt=\"%.2f\")\n",
    "\n",
    "plt.tight_layout()\n",
    "plt.show()"
   ]
  },
  {
   "cell_type": "code",
   "execution_count": 348,
   "id": "16384754",
   "metadata": {},
   "outputs": [],
   "source": [
    "# From the graph it can be inferred that:\n",
    "#     The most fit people (level 5) choose to prefer more expensive treadmill. \n",
    "#     This could be due a psychological factor as well that costly the product better the quality it will have, \n",
    "#     hence better result\n",
    "\n",
    "# People with moderate fitness, tend to choose cheaper treadmill more compared to expensive one:\n",
    "#     Maybe they prioritise on maintaining their current fitness and the cheaper ones will do just fine.\n",
    "\n",
    "# Or the other way of saying is:\n",
    "#     For chaper treadmills, probability of finding someone of fitness level 3 is very high \n",
    "#     in comparison to other level"
   ]
  },
  {
   "cell_type": "markdown",
   "id": "f3c96171",
   "metadata": {},
   "source": [
    "### Probability analysis conclusions"
   ]
  },
  {
   "cell_type": "code",
   "execution_count": 304,
   "id": "28d4eac8",
   "metadata": {},
   "outputs": [],
   "source": [
    "# Probability that a customer buys a KP481 given she is female\n",
    "# see below:"
   ]
  },
  {
   "cell_type": "code",
   "execution_count": 305,
   "id": "eedfd210",
   "metadata": {},
   "outputs": [
    {
     "data": {
      "text/html": [
       "<div>\n",
       "<style scoped>\n",
       "    .dataframe tbody tr th:only-of-type {\n",
       "        vertical-align: middle;\n",
       "    }\n",
       "\n",
       "    .dataframe tbody tr th {\n",
       "        vertical-align: top;\n",
       "    }\n",
       "\n",
       "    .dataframe thead th {\n",
       "        text-align: right;\n",
       "    }\n",
       "</style>\n",
       "<table border=\"1\" class=\"dataframe\">\n",
       "  <thead>\n",
       "    <tr style=\"text-align: right;\">\n",
       "      <th></th>\n",
       "      <th>Product</th>\n",
       "      <th>Female</th>\n",
       "      <th>Male</th>\n",
       "      <th>Total</th>\n",
       "    </tr>\n",
       "  </thead>\n",
       "  <tbody>\n",
       "    <tr>\n",
       "      <th>0</th>\n",
       "      <td>KP281</td>\n",
       "      <td>0.222222</td>\n",
       "      <td>0.222222</td>\n",
       "      <td>0.444444</td>\n",
       "    </tr>\n",
       "    <tr>\n",
       "      <th>1</th>\n",
       "      <td>KP481</td>\n",
       "      <td>0.161111</td>\n",
       "      <td>0.172222</td>\n",
       "      <td>0.333333</td>\n",
       "    </tr>\n",
       "    <tr>\n",
       "      <th>2</th>\n",
       "      <td>KP781</td>\n",
       "      <td>0.038889</td>\n",
       "      <td>0.183333</td>\n",
       "      <td>0.222222</td>\n",
       "    </tr>\n",
       "    <tr>\n",
       "      <th>3</th>\n",
       "      <td>Total</td>\n",
       "      <td>0.422222</td>\n",
       "      <td>0.577778</td>\n",
       "      <td>1.000000</td>\n",
       "    </tr>\n",
       "  </tbody>\n",
       "</table>\n",
       "</div>"
      ],
      "text/plain": [
       "  Product    Female      Male     Total\n",
       "0   KP281  0.222222  0.222222  0.444444\n",
       "1   KP481  0.161111  0.172222  0.333333\n",
       "2   KP781  0.038889  0.183333  0.222222\n",
       "3   Total  0.422222  0.577778  1.000000"
      ]
     },
     "execution_count": 305,
     "metadata": {},
     "output_type": "execute_result"
    }
   ],
   "source": [
    "df_gender_product_prob"
   ]
  },
  {
   "cell_type": "code",
   "execution_count": 313,
   "id": "af08cb7e",
   "metadata": {},
   "outputs": [
    {
     "data": {
      "text/plain": [
       "0.16111111111111112"
      ]
     },
     "execution_count": 313,
     "metadata": {},
     "output_type": "execute_result"
    }
   ],
   "source": [
    "df_gender_product_prob[df_gender_product_prob[\"Product\"] == \"KP481\"][\"Female\"].iloc[0]"
   ]
  },
  {
   "cell_type": "code",
   "execution_count": 314,
   "id": "747e78f6",
   "metadata": {},
   "outputs": [],
   "source": [
    "# Probability that a customer buys a KP781 given they are married\n",
    "# see below:"
   ]
  },
  {
   "cell_type": "code",
   "execution_count": 315,
   "id": "88c47ade",
   "metadata": {},
   "outputs": [
    {
     "data": {
      "text/html": [
       "<div>\n",
       "<style scoped>\n",
       "    .dataframe tbody tr th:only-of-type {\n",
       "        vertical-align: middle;\n",
       "    }\n",
       "\n",
       "    .dataframe tbody tr th {\n",
       "        vertical-align: top;\n",
       "    }\n",
       "\n",
       "    .dataframe thead th {\n",
       "        text-align: right;\n",
       "    }\n",
       "</style>\n",
       "<table border=\"1\" class=\"dataframe\">\n",
       "  <thead>\n",
       "    <tr style=\"text-align: right;\">\n",
       "      <th></th>\n",
       "      <th>Product</th>\n",
       "      <th>Partnered</th>\n",
       "      <th>Single</th>\n",
       "      <th>Total</th>\n",
       "    </tr>\n",
       "  </thead>\n",
       "  <tbody>\n",
       "    <tr>\n",
       "      <th>0</th>\n",
       "      <td>KP281</td>\n",
       "      <td>0.266667</td>\n",
       "      <td>0.177778</td>\n",
       "      <td>0.444444</td>\n",
       "    </tr>\n",
       "    <tr>\n",
       "      <th>1</th>\n",
       "      <td>KP481</td>\n",
       "      <td>0.200000</td>\n",
       "      <td>0.133333</td>\n",
       "      <td>0.333333</td>\n",
       "    </tr>\n",
       "    <tr>\n",
       "      <th>2</th>\n",
       "      <td>KP781</td>\n",
       "      <td>0.127778</td>\n",
       "      <td>0.094444</td>\n",
       "      <td>0.222222</td>\n",
       "    </tr>\n",
       "    <tr>\n",
       "      <th>3</th>\n",
       "      <td>Total</td>\n",
       "      <td>0.594444</td>\n",
       "      <td>0.405556</td>\n",
       "      <td>1.000000</td>\n",
       "    </tr>\n",
       "  </tbody>\n",
       "</table>\n",
       "</div>"
      ],
      "text/plain": [
       "  Product  Partnered    Single     Total\n",
       "0   KP281   0.266667  0.177778  0.444444\n",
       "1   KP481   0.200000  0.133333  0.333333\n",
       "2   KP781   0.127778  0.094444  0.222222\n",
       "3   Total   0.594444  0.405556  1.000000"
      ]
     },
     "execution_count": 315,
     "metadata": {},
     "output_type": "execute_result"
    }
   ],
   "source": [
    "df_maritalstatus_prodcuct_prob"
   ]
  },
  {
   "cell_type": "code",
   "execution_count": 316,
   "id": "5a6a7623",
   "metadata": {},
   "outputs": [
    {
     "data": {
      "text/plain": [
       "0.12777777777777777"
      ]
     },
     "execution_count": 316,
     "metadata": {},
     "output_type": "execute_result"
    }
   ],
   "source": [
    "df_maritalstatus_prodcuct_prob[df_maritalstatus_prodcuct_prob[\"Product\"] == \"KP781\"][\"Partnered\"].iloc[0]"
   ]
  },
  {
   "cell_type": "code",
   "execution_count": 317,
   "id": "9f2179f7",
   "metadata": {},
   "outputs": [],
   "source": [
    "# Probability that a customer buys a KP281 given that they are of fitness level 2\n",
    "# see below:"
   ]
  },
  {
   "cell_type": "code",
   "execution_count": 318,
   "id": "15750697",
   "metadata": {},
   "outputs": [
    {
     "data": {
      "text/html": [
       "<div>\n",
       "<style scoped>\n",
       "    .dataframe tbody tr th:only-of-type {\n",
       "        vertical-align: middle;\n",
       "    }\n",
       "\n",
       "    .dataframe tbody tr th {\n",
       "        vertical-align: top;\n",
       "    }\n",
       "\n",
       "    .dataframe thead th {\n",
       "        text-align: right;\n",
       "    }\n",
       "</style>\n",
       "<table border=\"1\" class=\"dataframe\">\n",
       "  <thead>\n",
       "    <tr style=\"text-align: right;\">\n",
       "      <th></th>\n",
       "      <th>Product</th>\n",
       "      <th>1</th>\n",
       "      <th>2</th>\n",
       "      <th>3</th>\n",
       "      <th>4</th>\n",
       "      <th>5</th>\n",
       "      <th>Total</th>\n",
       "    </tr>\n",
       "  </thead>\n",
       "  <tbody>\n",
       "    <tr>\n",
       "      <th>0</th>\n",
       "      <td>KP281</td>\n",
       "      <td>0.005556</td>\n",
       "      <td>0.077778</td>\n",
       "      <td>0.300000</td>\n",
       "      <td>0.050000</td>\n",
       "      <td>0.011111</td>\n",
       "      <td>0.444444</td>\n",
       "    </tr>\n",
       "    <tr>\n",
       "      <th>1</th>\n",
       "      <td>KP481</td>\n",
       "      <td>0.005556</td>\n",
       "      <td>0.066667</td>\n",
       "      <td>0.216667</td>\n",
       "      <td>0.044444</td>\n",
       "      <td>0.000000</td>\n",
       "      <td>0.333333</td>\n",
       "    </tr>\n",
       "    <tr>\n",
       "      <th>2</th>\n",
       "      <td>KP781</td>\n",
       "      <td>0.000000</td>\n",
       "      <td>0.000000</td>\n",
       "      <td>0.022222</td>\n",
       "      <td>0.038889</td>\n",
       "      <td>0.161111</td>\n",
       "      <td>0.222222</td>\n",
       "    </tr>\n",
       "    <tr>\n",
       "      <th>3</th>\n",
       "      <td>Total</td>\n",
       "      <td>0.011111</td>\n",
       "      <td>0.144444</td>\n",
       "      <td>0.538889</td>\n",
       "      <td>0.133333</td>\n",
       "      <td>0.172222</td>\n",
       "      <td>1.000000</td>\n",
       "    </tr>\n",
       "  </tbody>\n",
       "</table>\n",
       "</div>"
      ],
      "text/plain": [
       "  Product         1         2         3         4         5     Total\n",
       "0   KP281  0.005556  0.077778  0.300000  0.050000  0.011111  0.444444\n",
       "1   KP481  0.005556  0.066667  0.216667  0.044444  0.000000  0.333333\n",
       "2   KP781  0.000000  0.000000  0.022222  0.038889  0.161111  0.222222\n",
       "3   Total  0.011111  0.144444  0.538889  0.133333  0.172222  1.000000"
      ]
     },
     "execution_count": 318,
     "metadata": {},
     "output_type": "execute_result"
    }
   ],
   "source": [
    "df_fitness_product_prob"
   ]
  },
  {
   "cell_type": "code",
   "execution_count": 322,
   "id": "4c6f3387",
   "metadata": {},
   "outputs": [
    {
     "data": {
      "text/plain": [
       "0.07777777777777778"
      ]
     },
     "execution_count": 322,
     "metadata": {},
     "output_type": "execute_result"
    }
   ],
   "source": [
    "df_fitness_product_prob[df_fitness_product_prob[\"Product\"] == \"KP281\"][2].iloc[0]"
   ]
  },
  {
   "cell_type": "code",
   "execution_count": 323,
   "id": "35c530f0",
   "metadata": {},
   "outputs": [],
   "source": [
    "# Above are few of the observations that can be made using cross-tab tables created.\n",
    "# Thus, using cross tab it is easy to quickly calculate the conditional probability\n",
    "#     with a single glance without re-calculating everything again from the scratch."
   ]
  },
  {
   "cell_type": "markdown",
   "id": "274ea740",
   "metadata": {},
   "source": [
    "# Correlation matrix & Heatmap"
   ]
  },
  {
   "cell_type": "code",
   "execution_count": 324,
   "id": "3107809e",
   "metadata": {},
   "outputs": [
    {
     "data": {
      "text/html": [
       "<div>\n",
       "<style scoped>\n",
       "    .dataframe tbody tr th:only-of-type {\n",
       "        vertical-align: middle;\n",
       "    }\n",
       "\n",
       "    .dataframe tbody tr th {\n",
       "        vertical-align: top;\n",
       "    }\n",
       "\n",
       "    .dataframe thead th {\n",
       "        text-align: right;\n",
       "    }\n",
       "</style>\n",
       "<table border=\"1\" class=\"dataframe\">\n",
       "  <thead>\n",
       "    <tr style=\"text-align: right;\">\n",
       "      <th></th>\n",
       "      <th>Product</th>\n",
       "      <th>Age</th>\n",
       "      <th>Gender</th>\n",
       "      <th>Education</th>\n",
       "      <th>MaritalStatus</th>\n",
       "      <th>Usage</th>\n",
       "      <th>Fitness</th>\n",
       "      <th>Income</th>\n",
       "      <th>Miles</th>\n",
       "      <th>treadmill_cost</th>\n",
       "    </tr>\n",
       "  </thead>\n",
       "  <tbody>\n",
       "    <tr>\n",
       "      <th>0</th>\n",
       "      <td>KP281</td>\n",
       "      <td>18</td>\n",
       "      <td>Male</td>\n",
       "      <td>14</td>\n",
       "      <td>Single</td>\n",
       "      <td>3</td>\n",
       "      <td>4</td>\n",
       "      <td>29562</td>\n",
       "      <td>112</td>\n",
       "      <td>1500</td>\n",
       "    </tr>\n",
       "    <tr>\n",
       "      <th>1</th>\n",
       "      <td>KP281</td>\n",
       "      <td>19</td>\n",
       "      <td>Male</td>\n",
       "      <td>15</td>\n",
       "      <td>Single</td>\n",
       "      <td>2</td>\n",
       "      <td>3</td>\n",
       "      <td>31836</td>\n",
       "      <td>75</td>\n",
       "      <td>1500</td>\n",
       "    </tr>\n",
       "    <tr>\n",
       "      <th>2</th>\n",
       "      <td>KP281</td>\n",
       "      <td>19</td>\n",
       "      <td>Female</td>\n",
       "      <td>14</td>\n",
       "      <td>Partnered</td>\n",
       "      <td>4</td>\n",
       "      <td>3</td>\n",
       "      <td>30699</td>\n",
       "      <td>66</td>\n",
       "      <td>1500</td>\n",
       "    </tr>\n",
       "    <tr>\n",
       "      <th>3</th>\n",
       "      <td>KP281</td>\n",
       "      <td>19</td>\n",
       "      <td>Male</td>\n",
       "      <td>12</td>\n",
       "      <td>Single</td>\n",
       "      <td>3</td>\n",
       "      <td>3</td>\n",
       "      <td>32973</td>\n",
       "      <td>85</td>\n",
       "      <td>1500</td>\n",
       "    </tr>\n",
       "    <tr>\n",
       "      <th>4</th>\n",
       "      <td>KP281</td>\n",
       "      <td>20</td>\n",
       "      <td>Male</td>\n",
       "      <td>13</td>\n",
       "      <td>Partnered</td>\n",
       "      <td>4</td>\n",
       "      <td>2</td>\n",
       "      <td>35247</td>\n",
       "      <td>47</td>\n",
       "      <td>1500</td>\n",
       "    </tr>\n",
       "  </tbody>\n",
       "</table>\n",
       "</div>"
      ],
      "text/plain": [
       "  Product  Age  Gender  Education MaritalStatus  Usage  Fitness  Income  \\\n",
       "0   KP281   18    Male         14        Single      3        4   29562   \n",
       "1   KP281   19    Male         15        Single      2        3   31836   \n",
       "2   KP281   19  Female         14     Partnered      4        3   30699   \n",
       "3   KP281   19    Male         12        Single      3        3   32973   \n",
       "4   KP281   20    Male         13     Partnered      4        2   35247   \n",
       "\n",
       "   Miles  treadmill_cost  \n",
       "0    112            1500  \n",
       "1     75            1500  \n",
       "2     66            1500  \n",
       "3     85            1500  \n",
       "4     47            1500  "
      ]
     },
     "execution_count": 324,
     "metadata": {},
     "output_type": "execute_result"
    }
   ],
   "source": [
    "df.head()"
   ]
  },
  {
   "cell_type": "code",
   "execution_count": 325,
   "id": "56a810d3",
   "metadata": {},
   "outputs": [
    {
     "data": {
      "text/plain": [
       "(180, 10)"
      ]
     },
     "execution_count": 325,
     "metadata": {},
     "output_type": "execute_result"
    }
   ],
   "source": [
    "df.shape"
   ]
  },
  {
   "cell_type": "code",
   "execution_count": 327,
   "id": "98b0e6ec",
   "metadata": {},
   "outputs": [
    {
     "name": "stdout",
     "output_type": "stream",
     "text": [
      "<class 'pandas.core.frame.DataFrame'>\n",
      "RangeIndex: 180 entries, 0 to 179\n",
      "Data columns (total 10 columns):\n",
      " #   Column          Non-Null Count  Dtype \n",
      "---  ------          --------------  ----- \n",
      " 0   Product         180 non-null    object\n",
      " 1   Age             180 non-null    int64 \n",
      " 2   Gender          180 non-null    object\n",
      " 3   Education       180 non-null    int64 \n",
      " 4   MaritalStatus   180 non-null    object\n",
      " 5   Usage           180 non-null    int64 \n",
      " 6   Fitness         180 non-null    int64 \n",
      " 7   Income          180 non-null    int64 \n",
      " 8   Miles           180 non-null    int64 \n",
      " 9   treadmill_cost  180 non-null    int64 \n",
      "dtypes: int64(7), object(3)\n",
      "memory usage: 14.2+ KB\n"
     ]
    }
   ],
   "source": [
    "df.info()"
   ]
  },
  {
   "cell_type": "code",
   "execution_count": 329,
   "id": "ca57e991",
   "metadata": {},
   "outputs": [],
   "source": [
    "# Creating a dataframe including only those columns which have numeric data types\n",
    "\n",
    "df_numeric = df.select_dtypes(include=\"int64\")"
   ]
  },
  {
   "cell_type": "code",
   "execution_count": 330,
   "id": "835a3b0d",
   "metadata": {},
   "outputs": [
    {
     "data": {
      "text/html": [
       "<div>\n",
       "<style scoped>\n",
       "    .dataframe tbody tr th:only-of-type {\n",
       "        vertical-align: middle;\n",
       "    }\n",
       "\n",
       "    .dataframe tbody tr th {\n",
       "        vertical-align: top;\n",
       "    }\n",
       "\n",
       "    .dataframe thead th {\n",
       "        text-align: right;\n",
       "    }\n",
       "</style>\n",
       "<table border=\"1\" class=\"dataframe\">\n",
       "  <thead>\n",
       "    <tr style=\"text-align: right;\">\n",
       "      <th></th>\n",
       "      <th>Age</th>\n",
       "      <th>Education</th>\n",
       "      <th>Usage</th>\n",
       "      <th>Fitness</th>\n",
       "      <th>Income</th>\n",
       "      <th>Miles</th>\n",
       "      <th>treadmill_cost</th>\n",
       "    </tr>\n",
       "  </thead>\n",
       "  <tbody>\n",
       "    <tr>\n",
       "      <th>0</th>\n",
       "      <td>18</td>\n",
       "      <td>14</td>\n",
       "      <td>3</td>\n",
       "      <td>4</td>\n",
       "      <td>29562</td>\n",
       "      <td>112</td>\n",
       "      <td>1500</td>\n",
       "    </tr>\n",
       "    <tr>\n",
       "      <th>1</th>\n",
       "      <td>19</td>\n",
       "      <td>15</td>\n",
       "      <td>2</td>\n",
       "      <td>3</td>\n",
       "      <td>31836</td>\n",
       "      <td>75</td>\n",
       "      <td>1500</td>\n",
       "    </tr>\n",
       "    <tr>\n",
       "      <th>2</th>\n",
       "      <td>19</td>\n",
       "      <td>14</td>\n",
       "      <td>4</td>\n",
       "      <td>3</td>\n",
       "      <td>30699</td>\n",
       "      <td>66</td>\n",
       "      <td>1500</td>\n",
       "    </tr>\n",
       "    <tr>\n",
       "      <th>3</th>\n",
       "      <td>19</td>\n",
       "      <td>12</td>\n",
       "      <td>3</td>\n",
       "      <td>3</td>\n",
       "      <td>32973</td>\n",
       "      <td>85</td>\n",
       "      <td>1500</td>\n",
       "    </tr>\n",
       "    <tr>\n",
       "      <th>4</th>\n",
       "      <td>20</td>\n",
       "      <td>13</td>\n",
       "      <td>4</td>\n",
       "      <td>2</td>\n",
       "      <td>35247</td>\n",
       "      <td>47</td>\n",
       "      <td>1500</td>\n",
       "    </tr>\n",
       "  </tbody>\n",
       "</table>\n",
       "</div>"
      ],
      "text/plain": [
       "   Age  Education  Usage  Fitness  Income  Miles  treadmill_cost\n",
       "0   18         14      3        4   29562    112            1500\n",
       "1   19         15      2        3   31836     75            1500\n",
       "2   19         14      4        3   30699     66            1500\n",
       "3   19         12      3        3   32973     85            1500\n",
       "4   20         13      4        2   35247     47            1500"
      ]
     },
     "execution_count": 330,
     "metadata": {},
     "output_type": "execute_result"
    }
   ],
   "source": [
    "df_numeric.head()"
   ]
  },
  {
   "cell_type": "code",
   "execution_count": 331,
   "id": "be7ca567",
   "metadata": {},
   "outputs": [
    {
     "data": {
      "text/plain": [
       "(180, 7)"
      ]
     },
     "execution_count": 331,
     "metadata": {},
     "output_type": "execute_result"
    }
   ],
   "source": [
    "df_numeric.shape"
   ]
  },
  {
   "cell_type": "code",
   "execution_count": 336,
   "id": "555f79dd",
   "metadata": {},
   "outputs": [
    {
     "data": {
      "text/html": [
       "<div>\n",
       "<style scoped>\n",
       "    .dataframe tbody tr th:only-of-type {\n",
       "        vertical-align: middle;\n",
       "    }\n",
       "\n",
       "    .dataframe tbody tr th {\n",
       "        vertical-align: top;\n",
       "    }\n",
       "\n",
       "    .dataframe thead th {\n",
       "        text-align: right;\n",
       "    }\n",
       "</style>\n",
       "<table border=\"1\" class=\"dataframe\">\n",
       "  <thead>\n",
       "    <tr style=\"text-align: right;\">\n",
       "      <th></th>\n",
       "      <th>Age</th>\n",
       "      <th>Education</th>\n",
       "      <th>Usage</th>\n",
       "      <th>Fitness</th>\n",
       "      <th>Income</th>\n",
       "      <th>Miles</th>\n",
       "      <th>treadmill_cost</th>\n",
       "    </tr>\n",
       "  </thead>\n",
       "  <tbody>\n",
       "    <tr>\n",
       "      <th>Age</th>\n",
       "      <td>1.000000</td>\n",
       "      <td>0.280496</td>\n",
       "      <td>0.015064</td>\n",
       "      <td>0.061105</td>\n",
       "      <td>0.513414</td>\n",
       "      <td>0.036618</td>\n",
       "      <td>0.029263</td>\n",
       "    </tr>\n",
       "    <tr>\n",
       "      <th>Education</th>\n",
       "      <td>0.280496</td>\n",
       "      <td>1.000000</td>\n",
       "      <td>0.395155</td>\n",
       "      <td>0.410581</td>\n",
       "      <td>0.625827</td>\n",
       "      <td>0.307284</td>\n",
       "      <td>0.563463</td>\n",
       "    </tr>\n",
       "    <tr>\n",
       "      <th>Usage</th>\n",
       "      <td>0.015064</td>\n",
       "      <td>0.395155</td>\n",
       "      <td>1.000000</td>\n",
       "      <td>0.668606</td>\n",
       "      <td>0.519537</td>\n",
       "      <td>0.759130</td>\n",
       "      <td>0.623124</td>\n",
       "    </tr>\n",
       "    <tr>\n",
       "      <th>Fitness</th>\n",
       "      <td>0.061105</td>\n",
       "      <td>0.410581</td>\n",
       "      <td>0.668606</td>\n",
       "      <td>1.000000</td>\n",
       "      <td>0.535005</td>\n",
       "      <td>0.785702</td>\n",
       "      <td>0.696616</td>\n",
       "    </tr>\n",
       "    <tr>\n",
       "      <th>Income</th>\n",
       "      <td>0.513414</td>\n",
       "      <td>0.625827</td>\n",
       "      <td>0.519537</td>\n",
       "      <td>0.535005</td>\n",
       "      <td>1.000000</td>\n",
       "      <td>0.543473</td>\n",
       "      <td>0.695847</td>\n",
       "    </tr>\n",
       "    <tr>\n",
       "      <th>Miles</th>\n",
       "      <td>0.036618</td>\n",
       "      <td>0.307284</td>\n",
       "      <td>0.759130</td>\n",
       "      <td>0.785702</td>\n",
       "      <td>0.543473</td>\n",
       "      <td>1.000000</td>\n",
       "      <td>0.643923</td>\n",
       "    </tr>\n",
       "    <tr>\n",
       "      <th>treadmill_cost</th>\n",
       "      <td>0.029263</td>\n",
       "      <td>0.563463</td>\n",
       "      <td>0.623124</td>\n",
       "      <td>0.696616</td>\n",
       "      <td>0.695847</td>\n",
       "      <td>0.643923</td>\n",
       "      <td>1.000000</td>\n",
       "    </tr>\n",
       "  </tbody>\n",
       "</table>\n",
       "</div>"
      ],
      "text/plain": [
       "                     Age  Education     Usage   Fitness    Income     Miles  \\\n",
       "Age             1.000000   0.280496  0.015064  0.061105  0.513414  0.036618   \n",
       "Education       0.280496   1.000000  0.395155  0.410581  0.625827  0.307284   \n",
       "Usage           0.015064   0.395155  1.000000  0.668606  0.519537  0.759130   \n",
       "Fitness         0.061105   0.410581  0.668606  1.000000  0.535005  0.785702   \n",
       "Income          0.513414   0.625827  0.519537  0.535005  1.000000  0.543473   \n",
       "Miles           0.036618   0.307284  0.759130  0.785702  0.543473  1.000000   \n",
       "treadmill_cost  0.029263   0.563463  0.623124  0.696616  0.695847  0.643923   \n",
       "\n",
       "                treadmill_cost  \n",
       "Age                   0.029263  \n",
       "Education             0.563463  \n",
       "Usage                 0.623124  \n",
       "Fitness               0.696616  \n",
       "Income                0.695847  \n",
       "Miles                 0.643923  \n",
       "treadmill_cost        1.000000  "
      ]
     },
     "execution_count": 336,
     "metadata": {},
     "output_type": "execute_result"
    }
   ],
   "source": [
    "# correlation matrix of numeric columns dataframe: df_numeric\n",
    "\n",
    "corr_matrix = df_numeric.corr()\n",
    "corr_matrix"
   ]
  },
  {
   "cell_type": "code",
   "execution_count": 341,
   "id": "0f86cac3",
   "metadata": {},
   "outputs": [
    {
     "data": {
      "image/png": "[encoded data removed]",
      "text/plain": [
       "<Figure size 800x600 with 2 Axes>"
      ]
     },
     "metadata": {},
     "output_type": "display_data"
    }
   ],
   "source": [
    "# creating a heatmap of the correlation matrix for better visualisation\n",
    "\n",
    "plt.figure(figsize=(8,6))\n",
    "sns.heatmap(corr_matrix, annot=True, fmt=\".2f\", linewidths=0.5)\n",
    "\n",
    "plt.title(\"Heatmap of correlation matrix\", fontsize=15)\n",
    "\n",
    "plt.tight_layout()\n",
    "plt.show()"
   ]
  },
  {
   "cell_type": "markdown",
   "id": "a83e931c",
   "metadata": {},
   "source": [
    "### Observations from the heatmap"
   ]
  },
  {
   "cell_type": "code",
   "execution_count": 344,
   "id": "23806335",
   "metadata": {},
   "outputs": [],
   "source": [
    "# Strong correlation:\n",
    "\n",
    "# 1. The more fit the person is, the more likely he/she will be using the treadmill.\n",
    "#     Which also translates to covering more miles over the treadmill\n",
    "\n",
    "# 2. Highly fit customers tend to opt for more expensive treadmill\n",
    "\n",
    "# 3. If a customer has high income, they are likely to opt for more expensive treadmill.\n",
    "\n",
    "# 4. People who use treadmill more tend to cover more miles, which is intutive."
   ]
  },
  {
   "cell_type": "code",
   "execution_count": 345,
   "id": "ef51d15c",
   "metadata": {},
   "outputs": [],
   "source": [
    "# Moderate correlation\n",
    "\n",
    "# 1. More educated people tend to have higher income. Although not a rule, but this is expected.\n",
    "\n",
    "# 2. More expensive treadmills are likely to be used more frequently"
   ]
  },
  {
   "cell_type": "code",
   "execution_count": 346,
   "id": "496e89b1",
   "metadata": {},
   "outputs": [],
   "source": [
    "# Overall correlation\n",
    "\n",
    "# Age has almost no influence on any of the factors in the dataset, besides income.\n",
    "# Which could be mostly due to increased experience with age, hence increase in income\n",
    "\n",
    "# People with more education tend to have higher income, \n",
    "# thus they are more likely to buy more expensive treadmill, \n",
    "# which further are more likely to be used most often."
   ]
  },
  {
   "cell_type": "markdown",
   "id": "11eb3d4b",
   "metadata": {},
   "source": [
    "# Customer profiling & Recommendations"
   ]
  },
  {
   "cell_type": "markdown",
   "id": "47a43691",
   "metadata": {},
   "source": [
    "## Product: KP281"
   ]
  },
  {
   "cell_type": "code",
   "execution_count": 349,
   "id": "20aeea45",
   "metadata": {},
   "outputs": [],
   "source": [
    "# People with relatively less income and less fitness value opt for KP281 treadmill\n",
    "# Age has negligible effect on the treadmill choice\n",
    "# Both male and female equally incline towards KP281, so gender has no effect on the choice.\n",
    "# Married people have a higher chance of picking this over single individuals\n",
    "\n",
    "# Being the cheapest treadmill, this behaviour is expected.\n",
    "# As people with less income won't go for expensive one and \n",
    "#     less fit people don't want to invest in expensive product during the early phase of their fitness cycle.\n",
    "# Also being cheapest one, it will equally attaract general population both male & female, relatively same"
   ]
  },
  {
   "cell_type": "markdown",
   "id": "dc7f4675",
   "metadata": {},
   "source": [
    "## Product: KP481"
   ]
  },
  {
   "cell_type": "code",
   "execution_count": 350,
   "id": "21f594db",
   "metadata": {},
   "outputs": [],
   "source": [
    "# People with moderate to less fitness value may opt for this treadmill \n",
    "# Age has negligible effect on the treadmill choice\n",
    "# Females are slightly more likely to buy this product over males.\n",
    "# Married people have a higher chance of picking this over single individuals\n",
    "\n",
    "# Besides difference in gender, there is not much significant difference between KP481 and KP281.\n",
    "# This could be due to only a small difference of price between the products.\n",
    "# As the KP481 is not much expensive than KP281, it creates a psychological illusion that \n",
    "# the product might not make significant difference in the improvement of an individual's fitness.\n",
    "# Thus it's better not to invest in this and just go with the cheaper one -> as it will also get the job done.\n",
    "\n",
    "# This kind of tread is very common in customers when an organisation provides the same product\n",
    "# with different price brackets with only small differences in features.\n",
    "# This is usually done to push customers towards more expensive product -> better for business.\n",
    "\n",
    "# Comparing this to Apple iphones...\n",
    "# Apple also releases multiple iphone models with price differences b/w of about $100 - $150.\n",
    "# This pushes the customers who were earlier thinking of buying middle price iphone \n",
    "# to simply go for the more expensive one.\n",
    "#     Thus, more sale for expensive models -> higher profit -> good for business\n",
    "\n",
    "# Aerofit could also have released the KP481 model as a filler model b/w the other two.\n",
    "# Making it easier for the company to attract customers towards the most expensive product of their's\n",
    "# Hence, more profit - great business!"
   ]
  },
  {
   "cell_type": "markdown",
   "id": "a90d692b",
   "metadata": {},
   "source": [
    "## Product: KP781"
   ]
  },
  {
   "cell_type": "code",
   "execution_count": 351,
   "id": "d62936a6",
   "metadata": {},
   "outputs": [],
   "source": [
    "# People with relatively more income and more fitness value opt for KP781 treadmill.\n",
    "# Age has negligible effect on the treadmill choice\n",
    "# Females are significantly more likely to buy this treadmill.\n",
    "#     Female to male ratio is very high for KP781 treadmill than the other treadmills\n",
    "# Married people have a higher chance of picking this over single individuals.\n",
    "\n",
    "# Being the most expensive treadmill, this behaviour is expected.\n",
    "# People with more income will go for this product as they can afford it with relative ease.\n",
    "#     Also comes the phsycological factor that more expensive the product is the better the quality\n",
    "#     and people with higher income can afford higher quality product.\n",
    "# Also, more fit people have strong mentality of health and fintess \n",
    "#     They tend to invest in good quality products/equipments that could aid their fitness and improve if required.\n",
    "#     Expensive products usually have more extra or advance features\n",
    "#     which could also be tailored according to individual's needs - hence, the prefernce"
   ]
  },
  {
   "cell_type": "markdown",
   "id": "773bf17b",
   "metadata": {},
   "source": [
    "## Recommendations…"
   ]
  },
  {
   "cell_type": "markdown",
   "id": "34c25df9",
   "metadata": {},
   "source": [
    "### Creating few user profiles:"
   ]
  },
  {
   "cell_type": "code",
   "execution_count": 368,
   "id": "3169fea9",
   "metadata": {},
   "outputs": [],
   "source": [
    "# Customer 1: \n",
    "#     Male, \n",
    "#     28 years, \n",
    "#     fitness = 4, \n",
    "#     education = 12, \n",
    "#     single, \n",
    "#     income = 50000\n",
    "\n",
    "# Customer 2:\n",
    "#     Female,\n",
    "#     35 years,\n",
    "#     fitness = 2,\n",
    "#     education = 18\n",
    "#     partnered,\n",
    "#     income = 60000\n",
    "\n",
    "# Customer 3:\n",
    "#     Female,\n",
    "#     27 years,\n",
    "#     fitness = 4,\n",
    "#     education = 10,\n",
    "#     single,\n",
    "#     income = 58000"
   ]
  },
  {
   "cell_type": "markdown",
   "id": "06ecc4ef",
   "metadata": {},
   "source": [
    "#### Customer 1"
   ]
  },
  {
   "cell_type": "code",
   "execution_count": 369,
   "id": "0a4e639b",
   "metadata": {},
   "outputs": [],
   "source": [
    "# Best product for customer 1 is\n",
    "# KP481\n",
    "\n",
    "# Explanation:\n",
    "#     Men have more chance of buying treadmill in order: KP281 > KP781 > KP481\n",
    "#     Fitness level is high so probably more expensive one.\n",
    "#     But education & income falls under the category of KP281 & KP481 (rulling out KP781)\n",
    "#         50000 is at lower edge in income group for KP781 customers, thus rulling it out\n",
    "#     People buy KP281 more than KP481, in general\n",
    "#     Preferring more on fitness factor as it has strong correlation with the product.\n",
    "#     Hence KP481."
   ]
  },
  {
   "cell_type": "markdown",
   "id": "16c0e8d7",
   "metadata": {},
   "source": [
    "#### Customer 2"
   ]
  },
  {
   "cell_type": "code",
   "execution_count": 370,
   "id": "4dc4feab",
   "metadata": {},
   "outputs": [],
   "source": [
    "# Best product for customer 2 is\n",
    "# KP281\n",
    "\n",
    "# Explanation:\n",
    "#     Women have more chance of buying treadmill in order: KP281 > KP481 >> KP781 (very less chance for KP781)\n",
    "#     Low fitness means cheaper treadmill (rulling out KP781)\n",
    "#     Education & Income is not much help as it can help her buy either of the products\n",
    "#     People buy KP281 > KP481 (in general)\n",
    "#     Preferring more on fitness factor as it has strong correlation with the product.\n",
    "#     Hence KP281"
   ]
  },
  {
   "cell_type": "markdown",
   "id": "e5857988",
   "metadata": {},
   "source": [
    "#### Customer 3"
   ]
  },
  {
   "cell_type": "code",
   "execution_count": 371,
   "id": "bdf99c5f",
   "metadata": {},
   "outputs": [],
   "source": [
    "# Best product for customer 3 is\n",
    "# KP781\n",
    "\n",
    "# Explanation:\n",
    "#     Women have more chance of buying treadmill in order: KP281 > KP481 >> KP781 (very less chance for KP781)\n",
    "#     But high fitness tend to incliner her more towards KP781\n",
    "#     Income will make it easy for to afford either of the products\n",
    "#     People buy KP281 > KP481 > KP781\n",
    "#     Preferring more on fitness factor as it has strong correlation with the product.\n",
    "#         and also income is indicating towards more expensive product\n",
    "#     Hence KP781"
   ]
  },
  {
   "cell_type": "code",
   "execution_count": null,
   "id": "68ba9a5d",
   "metadata": {},
   "outputs": [],
   "source": []
  }
 ],
 "metadata": {
  "kernelspec": {
   "display_name": "Python 3 (ipykernel)",
   "language": "python",
   "name": "python3"
  },
  "language_info": {
   "codemirror_mode": {
    "name": "ipython",
    "version": 3
   },
   "file_extension": ".py",
   "mimetype": "text/x-python",
   "name": "python",
   "nbconvert_exporter": "python",
   "pygments_lexer": "ipython3",
   "version": "3.11.5"
  }
 },
 "nbformat": 4,
 "nbformat_minor": 5
}
